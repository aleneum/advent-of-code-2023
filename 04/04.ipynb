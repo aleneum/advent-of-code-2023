{
 "cells": [
  {
   "cell_type": "code",
   "execution_count": 46,
   "id": "65314ab5-fb1f-439f-9d85-e4eec1b2821c",
   "metadata": {},
   "outputs": [],
   "source": [
    "from pathlib import Path\n",
    "import re\n",
    "\n",
    "pattern = re.compile(r\"^Card\\s+\\d+:\\s+(?P<numbers>[\\d\\s]+)\\|\\s+(?P<winning>[\\d\\s]+)\")\n",
    "\n",
    "def cal_winning(path: str) -> int:\n",
    "    res = 0\n",
    "    with Path(path).open() as f:\n",
    "        for line in f.readlines():\n",
    "            match = pattern.search(line)\n",
    "            winning = [int(n) for n in re.split(r\"\\s+\", match.group(\"winning\").strip())]\n",
    "            numbers = [int(n) for n in re.split(r\"\\s+\", match.group(\"numbers\").strip()) if int(n) in winning]\n",
    "            if numbers:\n",
    "                res += 2**(len(numbers)-1)\n",
    "    return res\n",
    "\n",
    "            \n",
    "            "
   ]
  },
  {
   "cell_type": "code",
   "execution_count": 50,
   "id": "08c24b9e-acf4-461d-9303-cc84f386d503",
   "metadata": {},
   "outputs": [],
   "source": [
    "assert cal_winning(\"./04_test.txt\") == 13"
   ]
  },
  {
   "cell_type": "code",
   "execution_count": 51,
   "id": "36ee3a6d-5a1f-4999-8d03-3ce030993308",
   "metadata": {},
   "outputs": [],
   "source": [
    "assert cal_winning(\"./04_input.txt\") == 24542"
   ]
  },
  {
   "cell_type": "code",
   "execution_count": 60,
   "id": "d185256b-f639-4ba9-bd81-3513868ef476",
   "metadata": {},
   "outputs": [],
   "source": [
    "from collections import defaultdict\n",
    "\n",
    "def calc_cards(path:str) -> int:\n",
    "    res = 0\n",
    "    game = 0\n",
    "    multipliers = defaultdict(int)\n",
    "    with Path(path).open() as f:\n",
    "        for line in f.readlines():\n",
    "            game += 1\n",
    "            multipliers[game] += 1\n",
    "            match = pattern.search(line)\n",
    "            winning = [int(n) for n in re.split(r\"\\s+\", match.group(\"winning\").strip())]\n",
    "            numbers = [int(n) for n in re.split(r\"\\s+\", match.group(\"numbers\").strip()) if int(n) in winning]\n",
    "            for i in range(len(numbers)):\n",
    "                multipliers[game+i+1] += multipliers[game]\n",
    "    return sum(multipliers.values())\n",
    "\n",
    "            "
   ]
  },
  {
   "cell_type": "code",
   "execution_count": 61,
   "id": "8245675a-0f75-401a-9b7f-ba9bbafe76ca",
   "metadata": {},
   "outputs": [
    {
     "data": {
      "text/plain": [
       "30"
      ]
     },
     "execution_count": 61,
     "metadata": {},
     "output_type": "execute_result"
    }
   ],
   "source": [
    "calc_cards(\"./04_test.txt\")"
   ]
  },
  {
   "cell_type": "code",
   "execution_count": null,
   "id": "85f7f23b-4abd-4a2b-aca0-53f7fa7e8e47",
   "metadata": {},
   "outputs": [],
   "source": []
  }
 ],
 "metadata": {
  "kernelspec": {
   "display_name": "Python 3 (ipykernel)",
   "language": "python",
   "name": "python3"
  },
  "language_info": {
   "codemirror_mode": {
    "name": "ipython",
    "version": 3
   },
   "file_extension": ".py",
   "mimetype": "text/x-python",
   "name": "python",
   "nbconvert_exporter": "python",
   "pygments_lexer": "ipython3",
   "version": "3.12.0"
  }
 },
 "nbformat": 4,
 "nbformat_minor": 5
}
