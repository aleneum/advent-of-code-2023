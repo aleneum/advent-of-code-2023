{
 "cells": [
  {
   "cell_type": "code",
   "execution_count": 149,
   "id": "bcf05fc4-f5fe-4c40-a4c3-f163c46f7ac4",
   "metadata": {},
   "outputs": [],
   "source": [
    "from enum import Enum\n",
    "import re\n",
    "from pathlib import Path\n",
    "\n",
    "class Kind(Enum):\n",
    "    HIGH_CARD = 0\n",
    "    ONE_PAIR = 1\n",
    "    TWO_PAIRS = 2\n",
    "    THREE = 3\n",
    "    FULL_HOUSE = 4\n",
    "    FOUR = 5\n",
    "    FIVE = 6\n",
    "\n",
    "hand_map = { \"2\": 1, \"3\": 2, \"4\": 3, \"5\": 4, \"6\": 5, \"7\": 6,\n",
    "            \"8\": 7, \"9\": 8, \"T\": 9, \"J\": 10, \"Q\": 11, \"K\": 12, \"A\": 13}\n",
    "\n",
    "\n",
    "class Hand:\n",
    "\n",
    "    def __init__(self, hand):\n",
    "        self.hand = [hand_map[c] for c in hand]\n",
    "        mc = sorted((v for _, v in Counter(hand).most_common(2)), reverse=True)\n",
    "        if mc == [5]:\n",
    "            self.kind = Kind.FIVE\n",
    "        elif mc[0] == 4:\n",
    "            self.kind = Kind.FOUR\n",
    "        elif mc == [3, 2]:\n",
    "            self.kind = Kind.FULL_HOUSE\n",
    "        elif mc[0] == 3:\n",
    "            self.kind = Kind.THREE\n",
    "        elif mc == [2, 2]:\n",
    "            self.kind = Kind.TWO_PAIRS\n",
    "        elif mc[0] == 2:\n",
    "            self.kind = Kind.ONE_PAIR\n",
    "        else:\n",
    "            self.kind = Kind.HIGH_CARD\n",
    "\n",
    "    def __lt__(self, card):\n",
    "        if self.kind == card.kind:\n",
    "            return self.hand < card.hand\n",
    "        return self.kind.value < card.kind.value\n",
    "\n",
    "    def __repr__(self):\n",
    "        return f\"Hand<{self.hand}->{self.kind}>\"\n",
    "\n",
    "hand2_map = {**hand_map, **{\"J\": 0}}\n",
    "\n",
    "class Hand2:\n",
    "\n",
    "    def __init__(self, hand):\n",
    "        self.hand = [hand2_map[c] for c in hand]\n",
    "        counter = Counter(hand)\n",
    "        js = 0\n",
    "        if \"J\" in counter:\n",
    "            js = counter[\"J\"]\n",
    "            del counter[\"J\"]\n",
    "        mc = sorted((v for _, v in counter.most_common(2)), reverse=True)\n",
    "\n",
    "        if not mc or mc == [5 - js]:\n",
    "            self.kind = Kind.FIVE\n",
    "        elif mc[0] == 4 - js:\n",
    "            self.kind = Kind.FOUR\n",
    "        elif sum(mc) == 5 - js:\n",
    "            self.kind = Kind.FULL_HOUSE\n",
    "        elif mc[0] == 3 - js:\n",
    "            self.kind = Kind.THREE\n",
    "        elif sum(mc) == 4 - js:\n",
    "            self.kind = Kind.TWO_PAIRS\n",
    "        elif mc[0] == 2 - js:\n",
    "            self.kind = Kind.ONE_PAIR\n",
    "        else:\n",
    "            self.kind = Kind.HIGH_CARD\n",
    "\n",
    "    def __lt__(self, card):\n",
    "        if self.kind == card.kind:\n",
    "            return self.hand < card.hand\n",
    "        return self.kind.value < card.kind.value\n",
    "\n",
    "    def __repr__(self):\n",
    "        return f\"Hand<{self.hand}->{self.kind}>\"\n",
    "\n",
    "\n",
    "def load_file(path: str, cls):\n",
    "    res = []\n",
    "    with Path(path).open() as f:\n",
    "        for line in f.readlines():\n",
    "            hand, bid = line.strip().split(\" \")\n",
    "            res.append((cls(hand), int(bid)))\n",
    "    return res"
   ]
  },
  {
   "cell_type": "code",
   "execution_count": 150,
   "id": "65ea4f49-587f-477d-a028-a8103fc9bd2b",
   "metadata": {},
   "outputs": [],
   "source": [
    "assert sum(rank * bid for rank, (_, bid) in enumerate(sorted(load_file(\"./07_test.txt\", Hand)), 1)) == 6440"
   ]
  },
  {
   "cell_type": "code",
   "execution_count": 151,
   "id": "d7f20b96-2e24-4c6a-ba95-5703c4b4b17d",
   "metadata": {},
   "outputs": [
    {
     "data": {
      "text/plain": [
       "250120186"
      ]
     },
     "execution_count": 151,
     "metadata": {},
     "output_type": "execute_result"
    }
   ],
   "source": [
    "sum(rank * bid for rank, (_, bid) in enumerate(sorted(load_file(\"./07_input.txt\", Hand)), 1))  # 250120186"
   ]
  },
  {
   "cell_type": "code",
   "execution_count": 152,
   "id": "2fc6d64d-49a3-45d8-a899-9e82253b795f",
   "metadata": {},
   "outputs": [],
   "source": [
    "assert sum(rank * bid for rank, (_, bid) in enumerate(sorted(load_file(\"./07_test.txt\", Hand2)), 1)) == 5905"
   ]
  },
  {
   "cell_type": "code",
   "execution_count": 153,
   "id": "7754fa7d-f2f4-496b-85f5-0e4592fcbe5e",
   "metadata": {},
   "outputs": [
    {
     "data": {
      "text/plain": [
       "250665248"
      ]
     },
     "execution_count": 153,
     "metadata": {},
     "output_type": "execute_result"
    }
   ],
   "source": [
    "sum(rank * bid for rank, (_, bid) in enumerate(sorted(load_file(\"./07_input.txt\", Hand2)), 1))  # 250665248"
   ]
  },
  {
   "cell_type": "code",
   "execution_count": null,
   "id": "806dd30b-0d1c-4e42-8fb9-6c19b1abc9a4",
   "metadata": {},
   "outputs": [],
   "source": []
  }
 ],
 "metadata": {
  "kernelspec": {
   "display_name": "Python 3 (ipykernel)",
   "language": "python",
   "name": "python3"
  },
  "language_info": {
   "codemirror_mode": {
    "name": "ipython",
    "version": 3
   },
   "file_extension": ".py",
   "mimetype": "text/x-python",
   "name": "python",
   "nbconvert_exporter": "python",
   "pygments_lexer": "ipython3",
   "version": "3.12.0"
  }
 },
 "nbformat": 4,
 "nbformat_minor": 5
}
