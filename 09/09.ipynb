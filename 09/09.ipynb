{
 "cells": [
  {
   "cell_type": "code",
   "execution_count": 109,
   "id": "c92595f8-605b-4c92-818e-da296071068a",
   "metadata": {},
   "outputs": [],
   "source": [
    "from pathlib import Path\n",
    "\n",
    "def load_file(path: str):\n",
    "    seqs = []\n",
    "    with Path(path).open() as f:\n",
    "        for line in f.readlines():\n",
    "            seqs.append([int(num.strip()) for num in line.split(\" \")])\n",
    "    return seqs\n",
    "\n",
    "def _extrapolate_seqs(seq):\n",
    "    seqs = []\n",
    "    cur = seq\n",
    "    while any(c != 0 for c in cur):\n",
    "        seqs.append(cur)\n",
    "        cur = [cur[i] - cur[i-1] for i in range(1, len(cur))]\n",
    "    return seqs\n",
    "\n",
    "def calc_next(path):\n",
    "    res = 0\n",
    "    for seq in load_file(path):\n",
    "        seqs = _extrapolate_seqs(seq)\n",
    "        for i in range(len(seqs)-1, -1, -1):\n",
    "            res += seqs[i][-1]\n",
    "    return res\n",
    "\n",
    "def calc_next(path):\n",
    "    res = 0\n",
    "    for seq in load_file(path):\n",
    "        seqs = _extrapolate_seqs(seq)\n",
    "        for i in range(len(seqs)-1, -1, -1):\n",
    "            res += seqs[i][-1]\n",
    "    return res\n",
    "\n",
    "def calc_prev(path):\n",
    "    res = 0\n",
    "    for seq in load_file(path):\n",
    "        seqs = _extrapolate_seqs(seq)\n",
    "        tmp = 0\n",
    "        for i in range(len(seqs)-1, -1, -1):\n",
    "            tmp = seqs[i][0] - tmp\n",
    "        res += tmp\n",
    "    return res"
   ]
  },
  {
   "cell_type": "code",
   "execution_count": 110,
   "id": "cdf583e4-843a-41bc-a156-009c0f5b4eea",
   "metadata": {},
   "outputs": [],
   "source": [
    "assert calc_next(\"./09_test.txt\") == 114"
   ]
  },
  {
   "cell_type": "code",
   "execution_count": 111,
   "id": "184e7719-b2c4-47fa-afae-50f95a6646d4",
   "metadata": {},
   "outputs": [
    {
     "data": {
      "text/plain": [
       "1882395907"
      ]
     },
     "execution_count": 111,
     "metadata": {},
     "output_type": "execute_result"
    }
   ],
   "source": [
    "calc_next(\"./09_input.txt\")  # 1882395907"
   ]
  },
  {
   "cell_type": "code",
   "execution_count": 112,
   "id": "39a8feb0-f864-48e0-8c0b-0fda69d975cf",
   "metadata": {},
   "outputs": [],
   "source": [
    "assert calc_prev(\"./09_test.txt\") == 2"
   ]
  },
  {
   "cell_type": "code",
   "execution_count": 114,
   "id": "6029ef8f-8da6-475e-a181-d37108a29c03",
   "metadata": {},
   "outputs": [
    {
     "data": {
      "text/plain": [
       "1005"
      ]
     },
     "execution_count": 114,
     "metadata": {},
     "output_type": "execute_result"
    }
   ],
   "source": [
    "calc_prev(\"./09_input.txt\")  # 1005"
   ]
  },
  {
   "cell_type": "code",
   "execution_count": null,
   "id": "25d03f03-2278-4f17-a716-efd35743c263",
   "metadata": {},
   "outputs": [],
   "source": []
  }
 ],
 "metadata": {
  "kernelspec": {
   "display_name": "Python 3 (ipykernel)",
   "language": "python",
   "name": "python3"
  },
  "language_info": {
   "codemirror_mode": {
    "name": "ipython",
    "version": 3
   },
   "file_extension": ".py",
   "mimetype": "text/x-python",
   "name": "python",
   "nbconvert_exporter": "python",
   "pygments_lexer": "ipython3",
   "version": "3.12.0"
  }
 },
 "nbformat": 4,
 "nbformat_minor": 5
}
