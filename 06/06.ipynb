{
 "cells": [
  {
   "cell_type": "code",
   "execution_count": 68,
   "id": "6f6e23b5-139e-4737-a05d-181bcc57d2aa",
   "metadata": {},
   "outputs": [],
   "source": [
    "from pathlib import Path\n",
    "from typing import List\n",
    "import re\n",
    "import math\n",
    "\n",
    "def load_file(path: str):\n",
    "    res = []\n",
    "    with Path(path).open() as f:\n",
    "        for line in f.readlines():\n",
    "            _, tmp = line.split(\":\")\n",
    "            numbers = [int(number) for number in re.split(r\"\\s+\", tmp.strip())]\n",
    "            res.append(numbers)\n",
    "    return res\n",
    "\n",
    "def load_file2(path: str):\n",
    "    res = []\n",
    "    with Path(path).open() as f:\n",
    "        for line in f.readlines():\n",
    "            _, tmp = line.split(\":\")\n",
    "            number = ''.join(number for number in re.split(r\"\\s+\", tmp.strip()))\n",
    "            res.append(int(number))\n",
    "    return res\n",
    "\n",
    "def calc_strats(time, distance):\n",
    "    part_a = time / 2\n",
    "    part_b = math.sqrt(time**2 / 4 - distance - 1)\n",
    "    return math.floor(part_a + part_b) - math.ceil(part_a - part_b) + 1"
   ]
  },
  {
   "cell_type": "code",
   "execution_count": 69,
   "id": "f0d65357-cf0f-4cd5-a46b-923d3621550e",
   "metadata": {},
   "outputs": [],
   "source": [
    "assert math.prod(calc_strats(t, d) for t, d in zip(*load_file(\"./06_test.txt\"))) == 288"
   ]
  },
  {
   "cell_type": "code",
   "execution_count": 77,
   "id": "d144a4e3-e8f0-4f1a-bd9f-fa7e1ff3221d",
   "metadata": {},
   "outputs": [
    {
     "data": {
      "text/plain": [
       "74698"
      ]
     },
     "execution_count": 77,
     "metadata": {},
     "output_type": "execute_result"
    }
   ],
   "source": [
    "math.prod(calc_strats(t, d + 1) for t, d in zip(*load_file(\"./06_input.txt\")))"
   ]
  },
  {
   "cell_type": "code",
   "execution_count": 78,
   "id": "43685053-7ad6-4eef-a56a-e3ce55a76dae",
   "metadata": {},
   "outputs": [],
   "source": [
    "assert calc_strats(*load_file2(\"./06_test.txt\")) == 71503"
   ]
  },
  {
   "cell_type": "code",
   "execution_count": 79,
   "id": "5e583bd3-ed99-4902-a763-4dd784b04246",
   "metadata": {},
   "outputs": [
    {
     "data": {
      "text/plain": [
       "27563421"
      ]
     },
     "execution_count": 79,
     "metadata": {},
     "output_type": "execute_result"
    }
   ],
   "source": [
    "calc_strats(*load_file2(\"./06_input.txt\"))"
   ]
  },
  {
   "cell_type": "code",
   "execution_count": null,
   "id": "58346c01-22c5-40ea-a5fd-17588b44ded0",
   "metadata": {},
   "outputs": [],
   "source": []
  }
 ],
 "metadata": {
  "kernelspec": {
   "display_name": "Python 3 (ipykernel)",
   "language": "python",
   "name": "python3"
  },
  "language_info": {
   "codemirror_mode": {
    "name": "ipython",
    "version": 3
   },
   "file_extension": ".py",
   "mimetype": "text/x-python",
   "name": "python",
   "nbconvert_exporter": "python",
   "pygments_lexer": "ipython3",
   "version": "3.12.0"
  }
 },
 "nbformat": 4,
 "nbformat_minor": 5
}
