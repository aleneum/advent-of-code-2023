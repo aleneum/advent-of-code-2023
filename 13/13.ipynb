{
 "cells": [
  {
   "cell_type": "code",
   "execution_count": 118,
   "id": "dcb59cd8-0c24-4ac2-a381-b538783257a4",
   "metadata": {},
   "outputs": [],
   "source": [
    "from pathlib import Path\n",
    "\n",
    "def load_file(path):\n",
    "    patterns = []\n",
    "    pattern = []\n",
    "    with Path(path).open() as f:\n",
    "        for line in f.readlines():\n",
    "            if not line.strip():\n",
    "                patterns.append(pattern)\n",
    "                pattern = []\n",
    "            else:\n",
    "                pattern.append(list(line.strip()))\n",
    "        patterns.append(pattern)\n",
    "    return patterns\n",
    "\n",
    "def _find_mirror(pattern):\n",
    "    n = len(pattern)\n",
    "    for i in range(n-1):\n",
    "        t = i\n",
    "        b = i + 1\n",
    "        while pattern[t] == pattern[b]:\n",
    "            t -= 1\n",
    "            b += 1\n",
    "            if t < 0 or b >= n:\n",
    "                return i + 1\n",
    "    return None\n",
    "\n",
    "def _find_mirror2(pattern):\n",
    "    n = len(pattern)\n",
    "    for i in range(n-1):\n",
    "        t = i\n",
    "        b = i + 1\n",
    "        smudge = False\n",
    "        while pattern[t] == pattern[b] or not smudge:\n",
    "            if pattern[t] != pattern[b]:\n",
    "                if not smudge and sum(1 if a!=b else 0 for a,b in zip(pattern[t], pattern[b])) == 1:\n",
    "                    smudge = True\n",
    "                else:\n",
    "                    break\n",
    "            t -= 1\n",
    "            b += 1\n",
    "            if (t < 0 or b >= n):\n",
    "                if smudge:\n",
    "                    return i + 1\n",
    "                break\n",
    "    return None\n",
    "\n",
    "def find_mirror(pattern):\n",
    "    res = _find_mirror(pattern)\n",
    "    if res is None:\n",
    "        return _find_mirror([*zip(*pattern[::-1])])\n",
    "    return res * 100\n",
    "\n",
    "def find_mirror2(pattern):\n",
    "    res = _find_mirror2(pattern)\n",
    "    if res is None:\n",
    "        return _find_mirror2([*zip(*pattern[::-1])])\n",
    "    return res * 100\n",
    "            "
   ]
  },
  {
   "cell_type": "code",
   "execution_count": 119,
   "id": "7afa094f-7ded-414c-b658-99f9878c6ede",
   "metadata": {},
   "outputs": [],
   "source": [
    "patterns = load_file(\"13_test.txt\")\n",
    "assert sum(find_mirror(pattern) for pattern in patterns) == 405\n",
    "assert sum(find_mirror2(pattern) for pattern in patterns) == 400"
   ]
  },
  {
   "cell_type": "code",
   "execution_count": 120,
   "id": "fcc4c4d2-5275-488c-b93b-9ef935900824",
   "metadata": {},
   "outputs": [
    {
     "data": {
      "text/plain": [
       "29130"
      ]
     },
     "execution_count": 120,
     "metadata": {},
     "output_type": "execute_result"
    }
   ],
   "source": [
    "patterns = load_file(\"13_input.txt\")\n",
    "sum(find_mirror(pattern) for pattern in patterns)  # 29130"
   ]
  },
  {
   "cell_type": "code",
   "execution_count": 121,
   "id": "4dd0e54b-c7d4-4374-9ed5-dc1698907b49",
   "metadata": {},
   "outputs": [
    {
     "data": {
      "text/plain": [
       "33438"
      ]
     },
     "execution_count": 121,
     "metadata": {},
     "output_type": "execute_result"
    }
   ],
   "source": [
    "patterns = load_file(\"13_input.txt\")\n",
    "sum(find_mirror2(pattern) for pattern in patterns)  # 33438"
   ]
  },
  {
   "cell_type": "code",
   "execution_count": null,
   "id": "ef50d206-7b3b-4ff2-9854-978c4dcbea20",
   "metadata": {},
   "outputs": [],
   "source": []
  }
 ],
 "metadata": {
  "kernelspec": {
   "display_name": "Python 3 (ipykernel)",
   "language": "python",
   "name": "python3"
  },
  "language_info": {
   "codemirror_mode": {
    "name": "ipython",
    "version": 3
   },
   "file_extension": ".py",
   "mimetype": "text/x-python",
   "name": "python",
   "nbconvert_exporter": "python",
   "pygments_lexer": "ipython3",
   "version": "3.12.0"
  }
 },
 "nbformat": 4,
 "nbformat_minor": 5
}
