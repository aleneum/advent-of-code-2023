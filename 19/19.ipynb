{
 "cells": [
  {
   "cell_type": "code",
   "execution_count": 170,
   "id": "2ba53931-8569-48bf-8c07-c6889ca76372",
   "metadata": {},
   "outputs": [],
   "source": [
    "from pathlib import Path\n",
    "from operator import lt, gt\n",
    "\n",
    "ops = {\">\": gt, \"<\": lt}\n",
    "\n",
    "def load_file(path):\n",
    "    rules = {}\n",
    "    items = []\n",
    "    rule_phase = True\n",
    "    with Path(path).open() as f:\n",
    "        for line in f.readlines():\n",
    "            if not line.strip():\n",
    "                rule_phase = False\n",
    "            elif rule_phase:\n",
    "                name, tmp = line.strip().split(\"{\")\n",
    "                rls = []\n",
    "                for rule in tmp[:-1].split(\",\"):\n",
    "                    if \":\" in rule:\n",
    "                        f, target = rule.split(\":\")\n",
    "                        rls.append((lambda x,f=f: ops[f[1]](x[str(f[0])], int(f[2:])), f, target))\n",
    "                    else:\n",
    "                        rls.append((lambda x: True, rule, rule))\n",
    "                rules[name] = rls\n",
    "            else:\n",
    "                tmp = line.strip()[1:-1].split(\",\")\n",
    "                items.append((dict(x=int(tmp[0][2:]), m=int(tmp[1][2:]), a=int(tmp[2][2:]), s=int(tmp[3][2:]))))\n",
    "    return rules, items\n",
    "\n",
    "def calc_accepted(items, rules):\n",
    "    res = 0\n",
    "    \n",
    "    for it in items:\n",
    "        target = \"in\"\n",
    "        while target not in [\"A\", \"R\"]:\n",
    "            # print(target)\n",
    "            for rule, _, next_target in rules[target]:\n",
    "                if rule(it):\n",
    "                    target = next_target\n",
    "                    break\n",
    "        if target == \"A\":\n",
    "            res += sum(it.values())\n",
    "    return res"
   ]
  },
  {
   "cell_type": "code",
   "execution_count": 175,
   "id": "d5d33fe2-1af5-43cc-9668-33183e806e15",
   "metadata": {},
   "outputs": [
    {
     "data": {
      "text/plain": [
       "True"
      ]
     },
     "execution_count": 175,
     "metadata": {},
     "output_type": "execute_result"
    }
   ],
   "source": [
    "rules, items = load_file(\"19_test.txt\")\n",
    "calc_accepted(items, rules) == 19114"
   ]
  },
  {
   "cell_type": "code",
   "execution_count": 172,
   "id": "17e18d59-0b11-4b16-86de-4cbc99e67332",
   "metadata": {},
   "outputs": [
    {
     "data": {
      "text/plain": [
       "418498"
      ]
     },
     "execution_count": 172,
     "metadata": {},
     "output_type": "execute_result"
    }
   ],
   "source": [
    "rules, items = load_file(\"19_input.txt\")\n",
    "calc_accepted(items, rules)  # 418498"
   ]
  },
  {
   "cell_type": "code",
   "execution_count": 203,
   "id": "fc9fb53a-8f05-4b3c-927f-464c43d504c0",
   "metadata": {},
   "outputs": [],
   "source": [
    "from copy import deepcopy\n",
    "from math import prod\n",
    "\n",
    "def calc_rules(rules):\n",
    "\n",
    "    def dfs(target, parameters):\n",
    "        if target == \"R\":\n",
    "            return []\n",
    "        if target == \"A\":\n",
    "            return [parameters]\n",
    "        res = []\n",
    "        for _, f, t in rules[target]:\n",
    "            pars = deepcopy(parameters)\n",
    "            if f != t:\n",
    "                arg = f[0]\n",
    "                op = f[1]\n",
    "                val = int(f[2:])\n",
    "                if op == \"<\":\n",
    "                    pars[arg][1] = min(pars[arg][1], val-1)\n",
    "                    parameters[arg][0] = pars[arg][1] + 1\n",
    "                else:\n",
    "                    pars[arg][0] = max(pars[arg][0], val+1)\n",
    "                    parameters[arg][1] = pars[arg][0] - 1\n",
    "            res += dfs(t, pars)\n",
    "        return res\n",
    "\n",
    "    return dfs(\"in\", dict(x=[1, 4000], m=[1, 4000], a=[1, 4000], s=[1, 4000]))"
   ]
  },
  {
   "cell_type": "code",
   "execution_count": 204,
   "id": "d9c139ad-f16b-4446-b187-ffa6a8e4ce16",
   "metadata": {},
   "outputs": [
    {
     "data": {
      "text/plain": [
       "True"
      ]
     },
     "execution_count": 204,
     "metadata": {},
     "output_type": "execute_result"
    }
   ],
   "source": [
    "rules, items = load_file(\"19_test.txt\")\n",
    "sum(prod([e - a + 1 for a, e in par.values()]) for par in calc_rules(rules)) == 167409079868000"
   ]
  },
  {
   "cell_type": "code",
   "execution_count": 205,
   "id": "36392def-905f-454b-95e4-2e93347a3412",
   "metadata": {},
   "outputs": [
    {
     "data": {
      "text/plain": [
       "123331556462603"
      ]
     },
     "execution_count": 205,
     "metadata": {},
     "output_type": "execute_result"
    }
   ],
   "source": [
    "rules, items = load_file(\"19_input.txt\")\n",
    "sum(prod([e - a + 1 for a, e in par.values()]) for par in calc_rules(rules))  # 123331556462603"
   ]
  },
  {
   "cell_type": "code",
   "execution_count": 217,
   "id": "7806a3e7-3815-49fd-9eb0-08b8431ebc4e",
   "metadata": {},
   "outputs": [
    {
     "data": {
      "text/plain": [
       "['Thomas Buhl',\n",
       " 'Édouard Michelin',\n",
       " 'Önder Mustafaoğlu',\n",
       " 'เศรษฐา ทวีสิน',\n",
       " '習近平',\n",
       " '윤석열']"
      ]
     },
     "execution_count": 217,
     "metadata": {},
     "output_type": "execute_result"
    }
   ],
   "source": [
    "sorted([\"習近平\", \"เศรษฐา ทวีสิน\", \"윤석열\", \"Thomas Buhl\", \"Édouard Michelin\", \"Önder Mustafaoğlu\"])"
   ]
  },
  {
   "cell_type": "code",
   "execution_count": null,
   "id": "6abcb953-c203-4907-ba70-cab0fffdc4b5",
   "metadata": {},
   "outputs": [],
   "source": []
  },
  {
   "cell_type": "code",
   "execution_count": null,
   "id": "14890d17-cedd-485e-af2f-e18b7a51811d",
   "metadata": {},
   "outputs": [],
   "source": []
  }
 ],
 "metadata": {
  "kernelspec": {
   "display_name": "Python 3 (ipykernel)",
   "language": "python",
   "name": "python3"
  },
  "language_info": {
   "codemirror_mode": {
    "name": "ipython",
    "version": 3
   },
   "file_extension": ".py",
   "mimetype": "text/x-python",
   "name": "python",
   "nbconvert_exporter": "python",
   "pygments_lexer": "ipython3",
   "version": "3.12.0"
  }
 },
 "nbformat": 4,
 "nbformat_minor": 5
}
