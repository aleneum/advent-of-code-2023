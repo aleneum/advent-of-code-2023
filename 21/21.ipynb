{
 "cells": [
  {
   "cell_type": "code",
   "execution_count": 270,
   "id": "41b18bb1-75f7-4fde-a656-a3ad527b5e5e",
   "metadata": {},
   "outputs": [],
   "source": [
    "from pathlib import Path\n",
    "\n",
    "def parse_file(path):\n",
    "    res = []\n",
    "    start = None\n",
    "    with Path(path).open() as f:\n",
    "        for i, line in enumerate(f.readlines()):\n",
    "            if start is None and \"S\" in line:\n",
    "                start = (i, line.index(\"S\"))\n",
    "                line = line.replace(\"S\", \".\")\n",
    "            res.append(list(line.strip()))\n",
    "    return res, start\n",
    "\n",
    "def solve1(grid, start, max_steps):\n",
    "    m = len(grid)\n",
    "    n = len(grid[0])\n",
    "    queue = set([start])\n",
    "    steps = 0\n",
    "    while steps < max_steps:\n",
    "        next_steps = set()\n",
    "        while queue:\n",
    "            i, j = queue.pop()\n",
    "            for di, dj in ((-1, 0), (0, 1), (1, 0), (0, -1)):\n",
    "                ni = i + di\n",
    "                nj = j + dj\n",
    "                if 0 <= ni < m and 0 <= nj < n and grid[ni][nj] == \".\":\n",
    "                    next_steps.add((ni, nj))\n",
    "        steps += 1\n",
    "        queue = next_steps\n",
    "    return len(queue)\n",
    "\n",
    "def solve2(grid, start, max_steps):\n",
    "    m = len(grid)\n",
    "    n = len(grid[0])\n",
    "    print(m, n)\n",
    "    queue = set([start])    \n",
    "    steps = 0\n",
    "    nxt_field = {}\n",
    "    while steps < max_steps:\n",
    "        steps += 1\n",
    "        next_steps = set()\n",
    "        while queue:\n",
    "            i, j = queue.pop()\n",
    "            for di, dj in ((-1, 0), (0, 1), (1, 0), (0, -1)):\n",
    "                ni = i + di\n",
    "                nj = j + dj\n",
    "                if grid[ni % m][nj % n] == \".\":\n",
    "                    next_steps.add((ni, nj))\n",
    "        queue = next_steps\n",
    "    return len(next_steps)"
   ]
  },
  {
   "cell_type": "code",
   "execution_count": 105,
   "id": "bc96bfff-8a69-4046-9f1f-850972967d83",
   "metadata": {},
   "outputs": [
    {
     "data": {
      "text/plain": [
       "[['.', '.', '.', '.', '.', '.', '.', '.', '.', '.', '.'],\n",
       " ['.', '.', '.', '.', '.', '#', '#', '#', '.', '#', '.'],\n",
       " ['.', '#', '#', '#', '.', '#', '#', '.', '.', '#', '.'],\n",
       " ['.', '.', '#', '.', '#', '.', '.', '.', '#', '.', '.'],\n",
       " ['.', '.', '.', '.', '#', '.', '#', '.', '.', '.', '.'],\n",
       " ['.', '#', '#', '.', '.', '.', '#', '#', '#', '#', '.'],\n",
       " ['.', '#', '#', '.', '.', '#', '.', '.', '.', '#', '.'],\n",
       " ['.', '.', '.', '.', '.', '.', '.', '#', '#', '.', '.'],\n",
       " ['.', '#', '#', '.', '#', '.', '#', '#', '#', '#', '.'],\n",
       " ['.', '#', '#', '.', '.', '#', '#', '.', '#', '#', '.'],\n",
       " ['.', '.', '.', '.', '.', '.', '.', '.', '.', '.', '.']]"
      ]
     },
     "execution_count": 105,
     "metadata": {},
     "output_type": "execute_result"
    }
   ],
   "source": [
    "grid, start = parse_file(\"21_test.txt\")\n",
    "grid"
   ]
  },
  {
   "cell_type": "code",
   "execution_count": 70,
   "id": "228ea80c-b4bb-40a6-9ee2-44a721660989",
   "metadata": {},
   "outputs": [
    {
     "data": {
      "text/plain": [
       "True"
      ]
     },
     "execution_count": 70,
     "metadata": {},
     "output_type": "execute_result"
    }
   ],
   "source": [
    "solve1(grid, start, 6) == 16"
   ]
  },
  {
   "cell_type": "code",
   "execution_count": 121,
   "id": "17ed0cca-4347-418c-9f30-1837ffcb6265",
   "metadata": {},
   "outputs": [
    {
     "data": {
      "text/plain": [
       "3689"
      ]
     },
     "execution_count": 121,
     "metadata": {},
     "output_type": "execute_result"
    }
   ],
   "source": [
    "grid, start = parse_file(\"21_input.txt\")\n",
    "solve1(grid, start, 64)  # 3689"
   ]
  },
  {
   "cell_type": "code",
   "execution_count": 63,
   "id": "36946757-a5a6-47cd-9cb2-341c10ada52e",
   "metadata": {},
   "outputs": [
    {
     "data": {
      "text/plain": [
       "-1.0"
      ]
     },
     "execution_count": 63,
     "metadata": {},
     "output_type": "execute_result"
    }
   ],
   "source": [
    "remainder(-100,99)"
   ]
  },
  {
   "cell_type": "code",
   "execution_count": 401,
   "id": "171da091-ffa1-4735-9015-cffcc0b3d123",
   "metadata": {},
   "outputs": [],
   "source": [
    "def solve(grid, start, steps1, steps2):\n",
    "    n = len(grid)\n",
    "    sparse = {(i,j) for i in range(n) for j in range(n) if grid[i][j] in '.'}\n",
    "    dirs = [(1,0),(-1,0),(0,1),(0,-1)]\n",
    "    \n",
    "    def tadd(a,b): return ((a[0]+b[0]),(a[1]+b[1]))\n",
    "    def modp(a): return(a[0]%n, a[1]%n)\n",
    "    \n",
    "    visited, new, cache = {start}, {start}, {0:1}\n",
    "    k, r  = steps2//n, steps2%n\n",
    "    \n",
    "    for c in range(1, r+2*n+1):\n",
    "        visited, new = new, { np for p in new for di in dirs for np in [tadd(p,di)] \n",
    "        if np not in visited and modp(np) in sparse}\n",
    "        cache[c] = len(new) + (cache[c-2] if c>1 else 0)\n",
    "    \n",
    "    d2 = cache[r+2*n]+cache[r]-2*cache[r+n]\n",
    "    d1 = cache[r+2*n]-cache[r+n]\n",
    "    print(n, k, r, cache[r+2*n], d1, d2, (k-2)*(2*d1+(k-1)*d2)//2)\n",
    "    print(cache)\n",
    "    print(\"Part1: %d Part2: %d\" % (cache[steps1], cache[r+2*n] + (k-2)*(2*d1+(k-1)*d2)//2))"
   ]
  },
  {
   "cell_type": "code",
   "execution_count": 412,
   "id": "90df191c-ee98-4fab-98f8-1bedfd744ed7",
   "metadata": {},
   "outputs": [
    {
     "name": "stdout",
     "output_type": "stream",
     "text": [
      "11 11\n"
     ]
    },
    {
     "data": {
      "text/plain": [
       "261"
      ]
     },
     "execution_count": 412,
     "metadata": {},
     "output_type": "execute_result"
    }
   ],
   "source": [
    "x = 22\n",
    "grid, start = parse_file(\"21_test.txt\")\n",
    "solve2(grid, start, x)"
   ]
  },
  {
   "cell_type": "code",
   "execution_count": 413,
   "id": "1eb51cb4-dcc1-405c-b888-2e7aa29b9ea5",
   "metadata": {},
   "outputs": [
    {
     "name": "stdout",
     "output_type": "stream",
     "text": [
      "11 2 0 261 198 136 0\n",
      "{0: 1, 1: 2, 2: 4, 3: 6, 4: 9, 5: 13, 6: 16, 7: 22, 8: 30, 9: 41, 10: 50, 11: 63, 12: 74, 13: 89, 14: 99, 15: 115, 16: 129, 17: 145, 18: 165, 19: 192, 20: 216, 21: 234, 22: 261}\n",
      "Part1: 16 Part2: 261\n"
     ]
    }
   ],
   "source": [
    "grid, start = parse_file(\"21_test.txt\")\n",
    "solve(grid, start, 6, x)"
   ]
  },
  {
   "cell_type": "code",
   "execution_count": 408,
   "id": "9f10fb0f-47d0-467d-a659-12d58af08efd",
   "metadata": {},
   "outputs": [
    {
     "data": {
      "text/plain": [
       "33"
      ]
     },
     "execution_count": 408,
     "metadata": {},
     "output_type": "execute_result"
    }
   ],
   "source": [
    "grid, start = parse_file(\"21_test.txt\")\n",
    "solve1(grid, start, 10)"
   ]
  },
  {
   "cell_type": "code",
   "execution_count": 306,
   "id": "96f4a6a6-5d69-4051-b597-7b64e2c39e46",
   "metadata": {},
   "outputs": [
    {
     "data": {
      "text/plain": [
       "1134"
      ]
     },
     "execution_count": 306,
     "metadata": {},
     "output_type": "execute_result"
    }
   ],
   "source": [
    "1594 - 460"
   ]
  },
  {
   "cell_type": "code",
   "execution_count": null,
   "id": "7034718c-108d-493c-ac12-9e82460dabff",
   "metadata": {},
   "outputs": [],
   "source": []
  }
 ],
 "metadata": {
  "kernelspec": {
   "display_name": "Python 3 (ipykernel)",
   "language": "python",
   "name": "python3"
  },
  "language_info": {
   "codemirror_mode": {
    "name": "ipython",
    "version": 3
   },
   "file_extension": ".py",
   "mimetype": "text/x-python",
   "name": "python",
   "nbconvert_exporter": "python",
   "pygments_lexer": "ipython3",
   "version": "3.12.0"
  }
 },
 "nbformat": 4,
 "nbformat_minor": 5
}
