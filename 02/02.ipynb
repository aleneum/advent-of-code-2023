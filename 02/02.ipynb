{
 "cells": [
  {
   "cell_type": "code",
   "execution_count": 172,
   "id": "8d3b5b12-879a-47d1-ad04-669d6f9fcdf9",
   "metadata": {},
   "outputs": [],
   "source": [
    "from pathlib import Path\n",
    "import re\n",
    "from typing import Dict, List\n",
    "\n",
    "colors = {\"red\": 0, \"green\": 1, \"blue\": 2}\n",
    "re_split = re.compile(r\"^Game (?P<game>\\d+): (?P<rounds>.*)$\")\n",
    "\n",
    "def parse_file(path:str) -> Dict:\n",
    "    games = {}\n",
    "    with Path(path).open() as f:\n",
    "        for line in f.readlines():\n",
    "            match = re_split.match(line)\n",
    "            game = int(match.group(\"game\"))\n",
    "            games[game] = []\n",
    "            for round in match.group(\"rounds\").split(\";\"):\n",
    "                res = [0, 0, 0]\n",
    "                for sample in round.split(\",\"):\n",
    "                    num, color = sample.strip().split(\" \")\n",
    "                    res[colors[color]] = int(num)\n",
    "                games[game].append(res)  \n",
    "    return games"
   ]
  },
  {
   "cell_type": "code",
   "execution_count": 173,
   "id": "3ede6994-4f38-4564-a74b-c5bc757e8c5e",
   "metadata": {},
   "outputs": [],
   "source": [
    "def check_round(i:int, r:int, g:int, b:int, games:Dict) -> int:\n",
    "    for rx, gx, bx in games[i]:\n",
    "        if rx > r or gx > g or bx > b:\n",
    "            return 0\n",
    "    return i\n",
    "\n",
    "def check(r:int, g:int, b:int, games: Dict) -> int:\n",
    "    return sum(check_round(k, r, g, b, games) for k in games)    "
   ]
  },
  {
   "cell_type": "code",
   "execution_count": 174,
   "id": "452a7511-1f3b-4dfc-a370-a272996aaaec",
   "metadata": {},
   "outputs": [],
   "source": [
    "assert check(12, 13, 14, parse_file(\"./02_test.txt\")) == 8"
   ]
  },
  {
   "cell_type": "code",
   "execution_count": 175,
   "id": "7ed0e709-5e21-469b-ba15-59663d71eca9",
   "metadata": {},
   "outputs": [],
   "source": [
    "assert check(12, 13, 14, parse_file(\"./02_input.txt\")) == 2406"
   ]
  },
  {
   "cell_type": "code",
   "execution_count": 176,
   "id": "d259f399-bbef-4eec-84a4-6c88cd37d0b3",
   "metadata": {},
   "outputs": [],
   "source": [
    "def check2(games:Dict) -> int:\n",
    "    return sum(math.prod(list(map(max, zip(*v)))) for v in games.values())"
   ]
  },
  {
   "cell_type": "code",
   "execution_count": 177,
   "id": "99c846f2-98e4-4f90-8db6-64d3c5d3665e",
   "metadata": {},
   "outputs": [],
   "source": [
    "assert check2(parse_file(\"./02_test.txt\")) == 2286"
   ]
  },
  {
   "cell_type": "code",
   "execution_count": 169,
   "id": "3dc85278-6c82-481d-a445-8a0b7686ea57",
   "metadata": {},
   "outputs": [],
   "source": [
    "assert check2(parse_file(\"./02_input.txt\")) == 78375"
   ]
  }
 ],
 "metadata": {
  "kernelspec": {
   "display_name": "Python 3 (ipykernel)",
   "language": "python",
   "name": "python3"
  },
  "language_info": {
   "codemirror_mode": {
    "name": "ipython",
    "version": 3
   },
   "file_extension": ".py",
   "mimetype": "text/x-python",
   "name": "python",
   "nbconvert_exporter": "python",
   "pygments_lexer": "ipython3",
   "version": "3.12.0"
  }
 },
 "nbformat": 4,
 "nbformat_minor": 5
}
