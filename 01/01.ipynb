{
 "cells": [
  {
   "cell_type": "code",
   "execution_count": 15,
   "id": "d2f163cf-2c35-43f5-be88-90ba59473411",
   "metadata": {},
   "outputs": [],
   "source": [
    "from pathlib import Path\n",
    "\n",
    "def get_coordinates(path:str) -> int:\n",
    "    res = 0\n",
    "    with Path(path).open() as f:\n",
    "        for line in f.readlines():\n",
    "            l = 0\n",
    "            r = len(line)-1\n",
    "            while not line[l].isdigit():\n",
    "                l += 1\n",
    "            while not line[r].isdigit():\n",
    "                r -= 1\n",
    "            res += int(line[l] + line[r])\n",
    "    return res"
   ]
  },
  {
   "cell_type": "code",
   "execution_count": 17,
   "id": "4a8a1348-42cc-40ed-8476-e8723f32f99d",
   "metadata": {},
   "outputs": [],
   "source": [
    "assert get_coordinates(\"./01_test.txt\") == 142"
   ]
  },
  {
   "cell_type": "code",
   "execution_count": 18,
   "id": "abadae1b-d0cf-4a1c-a9a2-b1bc0f40d3cd",
   "metadata": {},
   "outputs": [
    {
     "data": {
      "text/plain": [
       "54561"
      ]
     },
     "execution_count": 18,
     "metadata": {},
     "output_type": "execute_result"
    }
   ],
   "source": [
    "get_coordinates(\"./01_input.txt\")"
   ]
  },
  {
   "cell_type": "code",
   "execution_count": 43,
   "id": "ab501100-4a87-4f54-9de1-4a6d8076ff75",
   "metadata": {},
   "outputs": [],
   "source": [
    "def get_num(i, word) -> int:\n",
    "    if word[i].isdigit():\n",
    "        return int(word[i])\n",
    "    for w, n in [(\"one\", 1), (\"two\", 2), (\"three\", 3), (\"four\", 4), (\"five\", 5),\n",
    "                 (\"six\", 6), (\"seven\", 7), (\"eight\", 8), (\"nine\", 9)]:\n",
    "        if word[i:i+len(w)] == w:\n",
    "            return n\n",
    "    return -1\n",
    "\n",
    "def get_coordinates_2(path:str) -> int:\n",
    "    res = 0\n",
    "    with Path(path).open() as f:\n",
    "        for line in f.readlines():\n",
    "            l = -1\n",
    "            r = len(line)\n",
    "            left = -1\n",
    "            right = -1\n",
    "            while left < 0:\n",
    "                l += 1\n",
    "                left = get_num(l, line)\n",
    "            while right < 0:\n",
    "                r -= 1\n",
    "                right = get_num(r, line)\n",
    "            res += left * 10 + right\n",
    "    return res"
   ]
  },
  {
   "cell_type": "code",
   "execution_count": 44,
   "id": "172c7845-d9ba-4af9-97b2-7c195c3f8943",
   "metadata": {},
   "outputs": [],
   "source": [
    "assert get_coordinates_2(\"./01b_test.txt\") == 281"
   ]
  },
  {
   "cell_type": "code",
   "execution_count": 45,
   "id": "ca72cbe7-c988-43c1-b76b-b33e94b05422",
   "metadata": {},
   "outputs": [
    {
     "data": {
      "text/plain": [
       "54076"
      ]
     },
     "execution_count": 45,
     "metadata": {},
     "output_type": "execute_result"
    }
   ],
   "source": [
    "get_coordinates_2(\"./01_input.txt\")"
   ]
  },
  {
   "cell_type": "code",
   "execution_count": null,
   "id": "e3b90330-e28a-4214-8239-dc14cb897fa6",
   "metadata": {},
   "outputs": [],
   "source": []
  }
 ],
 "metadata": {
  "kernelspec": {
   "display_name": "Python 3 (ipykernel)",
   "language": "python",
   "name": "python3"
  },
  "language_info": {
   "codemirror_mode": {
    "name": "ipython",
    "version": 3
   },
   "file_extension": ".py",
   "mimetype": "text/x-python",
   "name": "python",
   "nbconvert_exporter": "python",
   "pygments_lexer": "ipython3",
   "version": "3.12.0"
  }
 },
 "nbformat": 4,
 "nbformat_minor": 5
}
