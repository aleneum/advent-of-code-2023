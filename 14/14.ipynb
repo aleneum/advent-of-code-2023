{
 "cells": [
  {
   "cell_type": "code",
   "execution_count": 1,
   "id": "e9802f22-47b5-4f80-b1ed-26dd6203a384",
   "metadata": {},
   "outputs": [],
   "source": [
    "from pathlib import Path\n",
    "\n",
    "def load_file(path):\n",
    "    res = []\n",
    "    with Path(path).open() as f:\n",
    "        for line in f.readlines():\n",
    "            res.append(tuple(line.strip()))\n",
    "    return tuple(res)"
   ]
  },
  {
   "cell_type": "code",
   "execution_count": 2,
   "id": "0eb54c4a-83f1-4ed6-8ad9-145d0d6c5cb0",
   "metadata": {},
   "outputs": [
    {
     "data": {
      "text/plain": [
       "(('O', '.', '.', '.', '.', '#', '.', '.', '.', '.'),\n",
       " ('O', '.', 'O', 'O', '#', '.', '.', '.', '.', '#'),\n",
       " ('.', '.', '.', '.', '.', '#', '#', '.', '.', '.'),\n",
       " ('O', 'O', '.', '#', 'O', '.', '.', '.', '.', 'O'),\n",
       " ('.', 'O', '.', '.', '.', '.', '.', 'O', '#', '.'),\n",
       " ('O', '.', '#', '.', '.', 'O', '.', '#', '.', '#'),\n",
       " ('.', '.', 'O', '.', '.', '#', 'O', '.', '.', 'O'),\n",
       " ('.', '.', '.', '.', '.', '.', '.', 'O', '.', '.'),\n",
       " ('#', '.', '.', '.', '.', '#', '#', '#', '.', '.'),\n",
       " ('#', 'O', 'O', '.', '.', '#', '.', '.', '.', '.'))"
      ]
     },
     "execution_count": 2,
     "metadata": {},
     "output_type": "execute_result"
    }
   ],
   "source": [
    "field = load_file(\"14_test.txt\")\n",
    "field"
   ]
  },
  {
   "cell_type": "code",
   "execution_count": 3,
   "id": "eb8d8c75-9056-4143-99da-9949f73d5943",
   "metadata": {},
   "outputs": [
    {
     "data": {
      "text/plain": [
       "[('#', '#', '.', '.', 'O', '.', 'O', '.', 'O', 'O'),\n",
       " ('O', '.', '.', '.', '.', 'O', 'O', '.', '.', '.'),\n",
       " ('O', '.', '.', 'O', '#', '.', '.', '.', 'O', '.'),\n",
       " ('.', '.', '.', '.', '.', '.', '#', '.', 'O', '.'),\n",
       " ('.', '.', '.', '.', '.', '.', 'O', '.', '#', '.'),\n",
       " ('#', '#', '.', '#', 'O', '.', '.', '#', '.', '#'),\n",
       " ('.', '#', '.', 'O', '.', '.', '.', '#', '.', '.'),\n",
       " ('.', '#', 'O', '.', '#', 'O', '.', '.', '.', '.'),\n",
       " ('.', '.', '.', '.', '.', '#', '.', '.', '.', '.'),\n",
       " ('.', '.', '.', 'O', '#', '.', 'O', '.', '#', '.')]"
      ]
     },
     "execution_count": 3,
     "metadata": {},
     "output_type": "execute_result"
    }
   ],
   "source": [
    "[*zip(*field[::-1])]"
   ]
  },
  {
   "cell_type": "code",
   "execution_count": 42,
   "id": "9ffb7619-2085-4895-9f57-47f125416aa6",
   "metadata": {},
   "outputs": [],
   "source": [
    "from functools import cache\n",
    "\n",
    "def calc_weight(field):\n",
    "    n = len(field[0])\n",
    "    res = 0\n",
    "    for line in field:\n",
    "        left = n\n",
    "        cnt = 0\n",
    "        for i, el in enumerate(line, 1):\n",
    "            if el == \"#\":\n",
    "                res += sum(left-j for j in range(cnt))\n",
    "                left = n - i\n",
    "                cnt = 0\n",
    "            elif el == \"O\":\n",
    "                cnt += 1\n",
    "        res += sum(left-j for j in range(cnt))\n",
    "    return res\n",
    "\n",
    "def calc_weight2(field):\n",
    "    n = len(field)\n",
    "    res = 0\n",
    "    for i, row in enumerate(field):\n",
    "        res += sum(1 if el == \"O\" else 0 for el in row) * (n - i)\n",
    "    return res\n",
    "\n",
    "def rotate(field):\n",
    "    field = [*zip(*field[::-1])]\n",
    "    res = []\n",
    "    n = len(field[0])\n",
    "    for line in field:\n",
    "        left = n\n",
    "        cnt = 0\n",
    "        newline = []\n",
    "        for i, el in enumerate(line, 1):\n",
    "            if el == \"#\":\n",
    "                newline.extend(['.'] * (left - n + i - cnt - 1) + ['O'] * cnt + ['#'])\n",
    "                left = n - i\n",
    "                cnt = 0\n",
    "            elif el == \"O\":\n",
    "                cnt += 1\n",
    "        newline.extend(['.'] * (left - n + i - cnt) + ['O'] * cnt)\n",
    "        res.append(tuple(newline))\n",
    "    return tuple(res)\n",
    "\n",
    "def cycle(field):\n",
    "    field = rotate(field)\n",
    "    field = rotate(field)\n",
    "    field = rotate(field)\n",
    "    return rotate(field)\n",
    "\n",
    "@cache\n",
    "def cycle10000(field):\n",
    "    for _ in range(100):\n",
    "        field = cycle(field)\n",
    "    return field\n",
    "\n",
    "@cache\n",
    "def cycle100(field):\n",
    "    for _ in range(100):\n",
    "        field = cycle(field)\n",
    "    return field"
   ]
  },
  {
   "cell_type": "code",
   "execution_count": 43,
   "id": "109c2c3d-ee42-4b4a-a439-ea7d2de40f5b",
   "metadata": {},
   "outputs": [],
   "source": [
    "field = load_file(\"14_test.txt\")\n",
    "assert calc_weight([*zip(*field)]) == 136"
   ]
  },
  {
   "cell_type": "code",
   "execution_count": 44,
   "id": "b5030a71-08be-4773-b9ab-7545b8005491",
   "metadata": {},
   "outputs": [
    {
     "data": {
      "text/plain": [
       "108614"
      ]
     },
     "execution_count": 44,
     "metadata": {},
     "output_type": "execute_result"
    }
   ],
   "source": [
    "field = load_file(\"14_input.txt\")\n",
    "calc_weight([*zip(*field)])  # 108614"
   ]
  },
  {
   "cell_type": "code",
   "execution_count": 50,
   "id": "100b44b1-0d31-4b47-b338-dbfeef27ee31",
   "metadata": {},
   "outputs": [],
   "source": [
    "field = load_file(\"14_test.txt\")\n",
    "for i in range(100000):\n",
    "    field = cycle10000(field)\n",
    "assert calc_weight2(field) == 64"
   ]
  },
  {
   "cell_type": "code",
   "execution_count": 51,
   "id": "f86aaa3c-5da5-49a6-8e65-f1d6198b1269",
   "metadata": {},
   "outputs": [
    {
     "data": {
      "text/plain": [
       "96447"
      ]
     },
     "execution_count": 51,
     "metadata": {},
     "output_type": "execute_result"
    }
   ],
   "source": [
    "field = load_file(\"14_input.txt\")\n",
    "for i in range(100000):\n",
    "    field = cycle10000(field)\n",
    "calc_weight2(field)  # 96447"
   ]
  },
  {
   "cell_type": "code",
   "execution_count": null,
   "id": "e5753228-92a8-4445-968a-a92106b53784",
   "metadata": {},
   "outputs": [],
   "source": []
  }
 ],
 "metadata": {
  "kernelspec": {
   "display_name": "Python 3 (ipykernel)",
   "language": "python",
   "name": "python3"
  },
  "language_info": {
   "codemirror_mode": {
    "name": "ipython",
    "version": 3
   },
   "file_extension": ".py",
   "mimetype": "text/x-python",
   "name": "python",
   "nbconvert_exporter": "python",
   "pygments_lexer": "ipython3",
   "version": "3.12.0"
  }
 },
 "nbformat": 4,
 "nbformat_minor": 5
}
