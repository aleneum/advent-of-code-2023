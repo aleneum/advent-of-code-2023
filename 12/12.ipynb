{
 "cells": [
  {
   "cell_type": "code",
   "execution_count": 99,
   "id": "032c22ac-04a5-45b3-9291-64791dd40c8a",
   "metadata": {},
   "outputs": [],
   "source": [
    "from pathlib import Path\n",
    "from functools import cache\n",
    "\n",
    "@cache\n",
    "def backtrack(seg, grp, checks):\n",
    "    if not seg:\n",
    "        if not checks or (len(checks) == 1 and checks[0] == grp):\n",
    "            return 1\n",
    "        return 0\n",
    "    if not checks:\n",
    "        return 1 if \"#\" not in seg else 0\n",
    "    res = 0\n",
    "    char = seg[0]\n",
    "    if char == \".\":\n",
    "        if grp > 0:\n",
    "            if checks and grp == checks[0]:\n",
    "                res += backtrack(seg[1:], 0, checks[1:])\n",
    "        else:\n",
    "            res += backtrack(seg[1:], 0, checks)\n",
    "    elif char == \"#\":\n",
    "        if checks and grp < checks[0]:\n",
    "            res += backtrack(seg[1:], grp+1, checks)\n",
    "    elif grp > 0:\n",
    "        if checks:\n",
    "            if grp == checks[0]:\n",
    "                res += backtrack(seg[1:], 0, checks[1:])\n",
    "            elif grp < checks[0]:\n",
    "                res += backtrack(seg[1:], grp+1, checks)\n",
    "    else:\n",
    "        if checks:\n",
    "            res += backtrack(seg[1:], 1, checks)\n",
    "        res += backtrack(seg[1:], 0, checks)\n",
    "    return res\n",
    "\n",
    "def load_file(path):\n",
    "    res = 0\n",
    "    with Path(path).open() as f:\n",
    "        for line in f.readlines():\n",
    "            springs, checks = line.strip().split(\" \")\n",
    "            checks = [int(c) for c in checks.split(\",\")]\n",
    "            # print(springs, checks)\n",
    "            tmp = backtrack(springs, 0, tuple(checks))\n",
    "            # print(tmp)\n",
    "            res += tmp\n",
    "    return res\n",
    "\n",
    "def load_file2(path):\n",
    "    res = 0\n",
    "    with Path(path).open() as f:\n",
    "        for line in f.readlines():\n",
    "            springs, checks = line.strip().split(\" \")\n",
    "            springs = \"?\".join([springs] * 5)\n",
    "            checks = [int(c) for c in \",\".join([checks]*5).split(\",\")]\n",
    "            # print(springs, checks)\n",
    "            tmp = backtrack(springs, 0, tuple(checks))\n",
    "            # print(tmp)\n",
    "            res += tmp\n",
    "    return res\n"
   ]
  },
  {
   "cell_type": "code",
   "execution_count": 100,
   "id": "1c55b476-58af-4ee0-9983-fc38c39ec43e",
   "metadata": {},
   "outputs": [],
   "source": [
    "assert load_file(\"12_test.txt\") == 21"
   ]
  },
  {
   "cell_type": "code",
   "execution_count": 101,
   "id": "0ff48779-eef0-4a39-a200-be3c9c99bc71",
   "metadata": {},
   "outputs": [
    {
     "data": {
      "text/plain": [
       "7857"
      ]
     },
     "execution_count": 101,
     "metadata": {},
     "output_type": "execute_result"
    }
   ],
   "source": [
    "load_file(\"12_input.txt\")  # 7857"
   ]
  },
  {
   "cell_type": "code",
   "execution_count": 102,
   "id": "be1fa133-3cfc-4f67-80a7-136f812aed11",
   "metadata": {},
   "outputs": [],
   "source": [
    "assert load_file2(\"12_test.txt\") == 525152"
   ]
  },
  {
   "cell_type": "code",
   "execution_count": 103,
   "id": "df3d57b2-879e-4ead-b969-85b113119c2a",
   "metadata": {
    "scrolled": true
   },
   "outputs": [
    {
     "data": {
      "text/plain": [
       "28606137449920"
      ]
     },
     "execution_count": 103,
     "metadata": {},
     "output_type": "execute_result"
    }
   ],
   "source": [
    "load_file2(\"12_input.txt\")  # 28606137449920"
   ]
  },
  {
   "cell_type": "code",
   "execution_count": null,
   "id": "2ed8d50c-4e94-43b1-8ee1-1a144b3652db",
   "metadata": {},
   "outputs": [],
   "source": []
  }
 ],
 "metadata": {
  "kernelspec": {
   "display_name": "Python 3 (ipykernel)",
   "language": "python",
   "name": "python3"
  },
  "language_info": {
   "codemirror_mode": {
    "name": "ipython",
    "version": 3
   },
   "file_extension": ".py",
   "mimetype": "text/x-python",
   "name": "python",
   "nbconvert_exporter": "python",
   "pygments_lexer": "ipython3",
   "version": "3.12.0"
  }
 },
 "nbformat": 4,
 "nbformat_minor": 5
}
