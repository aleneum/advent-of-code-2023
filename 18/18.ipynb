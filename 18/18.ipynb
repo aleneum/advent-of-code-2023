{
 "cells": [
  {
   "cell_type": "code",
   "execution_count": 50,
   "id": "c6a69602-15e4-4d4b-8f4c-fb3ac34202ba",
   "metadata": {},
   "outputs": [],
   "source": [
    "from pathlib import Path\n",
    "\n",
    "def load_file(path):\n",
    "    res = []\n",
    "    with Path(path).open() as f:\n",
    "        for line in f.readlines():\n",
    "            d, s, c = line.strip().split(\" \")\n",
    "            res.append((d, int(s), c[2:-1]))\n",
    "    return res"
   ]
  },
  {
   "cell_type": "code",
   "execution_count": 59,
   "id": "cbbe77d7-d9f2-4a7c-ac7a-580eb56e3468",
   "metadata": {},
   "outputs": [],
   "source": [
    "calcs = {\n",
    "    \"U\": (-1, 0),\n",
    "    \"R\": (0, 1),\n",
    "    \"D\": (1, 0),\n",
    "    \"L\": (0, -1)\n",
    "}\n",
    "\n",
    "def hex_to_inst(hx):\n",
    "    s = int(hx[:5], 16)\n",
    "    d = [\"R\", \"D\", \"L\", \"U\"][int(hx[5])]\n",
    "    return d, s\n",
    "\n",
    "def calc_edges(insts, use_hex = False):\n",
    "    points = [(0,0)]\n",
    "    u = 0\n",
    "    for d, s, h in insts:\n",
    "        if use_hex:\n",
    "            d, s = hex_to_inst(h)\n",
    "        ds = calcs[d]\n",
    "        points.append((points[-1][0] + ds[0] * s, points[-1][1] + ds[1] * s))\n",
    "        u += abs(ds[0] * s) + abs(ds[1] * s)\n",
    "    points.pop()\n",
    "    return u, points\n",
    "\n",
    "# Polygon area ala Shoelace\n",
    "def area(p):\n",
    "    return 0.5 * abs(sum(x0*y1 - x1*y0\n",
    "                         for ((x0, y0), (x1, y1)) in segments(p)))\n",
    "\n",
    "def segments(p):\n",
    "    return zip(p, p[1:] + [p[0]])"
   ]
  },
  {
   "cell_type": "code",
   "execution_count": 60,
   "id": "c72cb410-4f43-49dd-a216-537426fcfc1f",
   "metadata": {},
   "outputs": [
    {
     "data": {
      "text/plain": [
       "True"
      ]
     },
     "execution_count": 60,
     "metadata": {},
     "output_type": "execute_result"
    }
   ],
   "source": [
    "insts = load_file(\"18_test.txt\")\n",
    "u, pts = calc_edges(insts)\n",
    "area(pts) - u // 2 + 1 + u == 62"
   ]
  },
  {
   "cell_type": "code",
   "execution_count": 61,
   "id": "c16489c4-b55c-48a4-bf76-63326a99954c",
   "metadata": {},
   "outputs": [
    {
     "data": {
      "text/plain": [
       "74074.0"
      ]
     },
     "execution_count": 61,
     "metadata": {},
     "output_type": "execute_result"
    }
   ],
   "source": [
    "insts = load_file(\"18_input.txt\")\n",
    "u, pts = calc_edges(insts)\n",
    "area(pts) - u // 2 + 1 + u  # 74074"
   ]
  },
  {
   "cell_type": "code",
   "execution_count": 65,
   "id": "42abdc1f-a5bb-47e9-9628-02c29f39a19f",
   "metadata": {},
   "outputs": [
    {
     "data": {
      "text/plain": [
       "True"
      ]
     },
     "execution_count": 65,
     "metadata": {},
     "output_type": "execute_result"
    }
   ],
   "source": [
    "insts = load_file(\"18_test.txt\")\n",
    "u, pts = calc_edges(insts, True)\n",
    "area(pts) - u // 2 + 1 + u == 952408144115"
   ]
  },
  {
   "cell_type": "code",
   "execution_count": 67,
   "id": "0d18595b-3679-4ff9-812b-368c306ba6bc",
   "metadata": {},
   "outputs": [
    {
     "data": {
      "text/plain": [
       "112074045986829.0"
      ]
     },
     "execution_count": 67,
     "metadata": {},
     "output_type": "execute_result"
    }
   ],
   "source": [
    "insts = load_file(\"18_input.txt\")\n",
    "u, pts = calc_edges(insts, True)\n",
    "area(pts) - u // 2 + 1 + u  # 112074045986829"
   ]
  },
  {
   "cell_type": "code",
   "execution_count": null,
   "id": "490186e4-28d3-4821-b039-00f69cbe7a73",
   "metadata": {},
   "outputs": [],
   "source": []
  }
 ],
 "metadata": {
  "kernelspec": {
   "display_name": "Python 3 (ipykernel)",
   "language": "python",
   "name": "python3"
  },
  "language_info": {
   "codemirror_mode": {
    "name": "ipython",
    "version": 3
   },
   "file_extension": ".py",
   "mimetype": "text/x-python",
   "name": "python",
   "nbconvert_exporter": "python",
   "pygments_lexer": "ipython3",
   "version": "3.12.0"
  }
 },
 "nbformat": 4,
 "nbformat_minor": 5
}
