{
 "cells": [
  {
   "cell_type": "code",
   "execution_count": 231,
   "id": "4ce7f609-c9ff-4915-b950-2ca713a15fe0",
   "metadata": {},
   "outputs": [],
   "source": [
    "from pathlib import Path\n",
    "from math import lcm\n",
    "\n",
    "def load_file(path: str):\n",
    "    mapping = {}\n",
    "    with Path(path).open() as f:\n",
    "        pattern = f.readline().strip()\n",
    "        f.readline()\n",
    "        for entry in f.readlines():\n",
    "            key, vals = entry.split(\" = \")\n",
    "            mapping[key.strip()] = vals.strip()[1:-1].split(\", \")\n",
    "    return pattern, mapping\n",
    "\n",
    "def calc_steps(path: str):\n",
    "    pattern, mapping = load_file(path)\n",
    "    ptr = 0\n",
    "    n = len(pattern)\n",
    "    cur = \"AAA\"\n",
    "    steps = 0\n",
    "    while cur != \"ZZZ\":\n",
    "        nxt_mapping = mapping[cur]\n",
    "        cur = nxt_mapping[0] if pattern[ptr] == \"L\" else nxt_mapping[1]\n",
    "        ptr = (ptr + 1) % n\n",
    "        steps += 1\n",
    "    return steps\n",
    "\n",
    "def calc_dist(start, pattern, mapping):\n",
    "    ptr = 0\n",
    "    n = len(pattern)\n",
    "    cur = start\n",
    "    steps = 0\n",
    "    hits = 0\n",
    "    res = []\n",
    "    while hits < 2:\n",
    "        nxt_mapping = mapping[cur]\n",
    "        cur = nxt_mapping[0] if pattern[ptr] == \"L\" else nxt_mapping[1]\n",
    "        if (cur.endswith(\"Z\")):\n",
    "            hits += 1\n",
    "            res.append(steps)\n",
    "        ptr = (ptr + 1) % n\n",
    "        steps += 1\n",
    "    return res[1] - res[0]\n",
    "\n",
    "def calc_steps2(path: str):\n",
    "    pattern, mapping = load_file(path)\n",
    "    cur = [calc_dist(src, pattern, mapping) for src in mapping.keys() if src.endswith(\"A\")]\n",
    "    return lcm(*cur)"
   ]
  },
  {
   "cell_type": "code",
   "execution_count": 232,
   "id": "48c36cfa-9829-41b8-b49a-7353c5b08c66",
   "metadata": {},
   "outputs": [],
   "source": [
    "assert calc_steps(\"08_test.txt\") == 2\n",
    "assert calc_steps(\"08_test2.txt\") == 6"
   ]
  },
  {
   "cell_type": "code",
   "execution_count": 233,
   "id": "92a1fe33-5c6f-4556-bd4d-fac413620f8c",
   "metadata": {},
   "outputs": [
    {
     "data": {
      "text/plain": [
       "14429"
      ]
     },
     "execution_count": 233,
     "metadata": {},
     "output_type": "execute_result"
    }
   ],
   "source": [
    "calc_steps(\"08_input.txt\")  # 14429"
   ]
  },
  {
   "cell_type": "code",
   "execution_count": 234,
   "id": "0fd03b1a-65de-48cb-a01d-266673ba3fd1",
   "metadata": {},
   "outputs": [],
   "source": [
    "assert calc_steps2(\"08_test3.txt\") == 6"
   ]
  },
  {
   "cell_type": "code",
   "execution_count": 235,
   "id": "feaa1ea0-2dee-432a-8c97-532d42adcdc4",
   "metadata": {
    "scrolled": true
   },
   "outputs": [
    {
     "data": {
      "text/plain": [
       "10921547990923"
      ]
     },
     "execution_count": 235,
     "metadata": {},
     "output_type": "execute_result"
    }
   ],
   "source": [
    "calc_steps2(\"08_input.txt\")  # 10921547990923"
   ]
  }
 ],
 "metadata": {
  "kernelspec": {
   "display_name": "Python 3 (ipykernel)",
   "language": "python",
   "name": "python3"
  },
  "language_info": {
   "codemirror_mode": {
    "name": "ipython",
    "version": 3
   },
   "file_extension": ".py",
   "mimetype": "text/x-python",
   "name": "python",
   "nbconvert_exporter": "python",
   "pygments_lexer": "ipython3",
   "version": "3.12.0"
  }
 },
 "nbformat": 4,
 "nbformat_minor": 5
}
