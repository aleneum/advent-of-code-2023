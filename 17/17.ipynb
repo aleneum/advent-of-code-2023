{
 "cells": [
  {
   "cell_type": "code",
   "execution_count": 48,
   "id": "67d3a9b5-9f9f-419d-b6f9-dec4c5a62631",
   "metadata": {},
   "outputs": [],
   "source": [
    "from pathlib import Path\n",
    "from heapq import heappush, heappop\n",
    "\n",
    "NORTH = 0\n",
    "EAST = 1\n",
    "SOUTH = 2\n",
    "WEST = 3\n",
    "\n",
    "def load_file(path):\n",
    "    res = []\n",
    "    with Path(path).open() as f:\n",
    "        for line in f.readlines():\n",
    "            res.append([int(num) for num in line.strip()])\n",
    "    return res"
   ]
  },
  {
   "cell_type": "code",
   "execution_count": 49,
   "id": "14bec954-33e5-4ce1-a11b-4865af38e0a1",
   "metadata": {},
   "outputs": [
    {
     "data": {
      "text/plain": [
       "[[2, 4, 1, 3, 4, 3, 2, 3, 1, 1, 3, 2, 3],\n",
       " [3, 2, 1, 5, 4, 5, 3, 5, 3, 5, 6, 2, 3],\n",
       " [3, 2, 5, 5, 2, 4, 5, 6, 5, 4, 2, 5, 4],\n",
       " [3, 4, 4, 6, 5, 8, 5, 8, 4, 5, 4, 5, 2],\n",
       " [4, 5, 4, 6, 6, 5, 7, 8, 6, 7, 5, 3, 6],\n",
       " [1, 4, 3, 8, 5, 9, 8, 7, 9, 8, 4, 5, 4],\n",
       " [4, 4, 5, 7, 8, 7, 6, 9, 8, 7, 7, 6, 6],\n",
       " [3, 6, 3, 7, 8, 7, 7, 9, 7, 9, 6, 5, 3],\n",
       " [4, 6, 5, 4, 9, 6, 7, 9, 8, 6, 8, 8, 7],\n",
       " [4, 5, 6, 4, 6, 7, 9, 9, 8, 6, 4, 5, 3],\n",
       " [1, 2, 2, 4, 6, 8, 6, 8, 6, 5, 5, 6, 3],\n",
       " [2, 5, 4, 6, 5, 4, 8, 8, 8, 7, 7, 3, 5],\n",
       " [4, 3, 2, 2, 6, 7, 4, 6, 5, 5, 5, 3, 3]]"
      ]
     },
     "execution_count": 49,
     "metadata": {},
     "output_type": "execute_result"
    }
   ],
   "source": [
    "load_file(\"17_test.txt\")"
   ]
  },
  {
   "cell_type": "code",
   "execution_count": 103,
   "id": "4cf5dd5f-2f37-4332-9c42-228a03370bea",
   "metadata": {},
   "outputs": [],
   "source": [
    "def trace(grid):\n",
    "    m = len(grid)\n",
    "    n = len(grid[0])\n",
    "    queue = [(0, 0, 0, 0, EAST)]\n",
    "    seen = set()\n",
    "    while queue:\n",
    "        h, i, j, cnt, d = heappop(queue)\n",
    "        if i == m - 1 and j == n - 1:\n",
    "            return h\n",
    "        if i < m-1 and d != NORTH and (d != SOUTH or cnt < 3):\n",
    "            new_cnt = cnt+1 if d == SOUTH else 1\n",
    "            if (i+1, j, new_cnt, SOUTH) not in seen:\n",
    "                seen.add((i+1, j, new_cnt, SOUTH))\n",
    "                heappush(queue, (grid[i+1][j] + h, i+1, j, new_cnt, SOUTH))\n",
    "        if j < n-1 and d != WEST and (d != EAST or cnt < 3):\n",
    "            new_cnt = cnt+1 if d == EAST else 1\n",
    "            if (i, j+1, new_cnt, EAST) not in seen:\n",
    "                seen.add((i, j+1, new_cnt, EAST))\n",
    "                heappush(queue, (grid[i][j+1] + h, i, j+1, new_cnt, EAST))\n",
    "        if i > 0 and d != SOUTH and (d != NORTH or cnt < 3):\n",
    "            new_cnt = cnt+1 if d == NORTH else 1\n",
    "            if (i-1, j, new_cnt, NORTH) not in seen:\n",
    "                seen.add((i-1, j, new_cnt, NORTH))\n",
    "                heappush(queue, (grid[i-1][j] + h, i-1, j, new_cnt, NORTH))\n",
    "        if j > 0 and d != EAST and (d != WEST or cnt < 3):\n",
    "            new_cnt = cnt+1 if d == WEST else 1\n",
    "            if (i, j-1, new_cnt, WEST) not in seen:\n",
    "                seen.add((i, j-1, new_cnt, WEST))\n",
    "                heappush(queue, (grid[i][j-1] + h, i, j-1, new_cnt, WEST))\n",
    "    return None\n",
    "\n",
    "def trace2(grid):\n",
    "    m = len(grid)\n",
    "    n = len(grid[0])\n",
    "    queue = [(0, 0, 0, 0, EAST, []), (0, 0, 0, 0, SOUTH, [])]\n",
    "    seen = set()\n",
    "    while queue:\n",
    "        h, i, j, cnt, d, q = heappop(queue)\n",
    "        if i == m - 1 and j == n - 1 and cnt > 3:\n",
    "            return h, q\n",
    "        if i < m-1 and d != NORTH and ((d == SOUTH and cnt < 10) or (d != SOUTH and cnt > 3)):\n",
    "            new_cnt = cnt+1 if d == SOUTH else 1\n",
    "            if (i+1, j, new_cnt, SOUTH) not in seen:\n",
    "                seen.add((i+1, j, new_cnt, SOUTH))\n",
    "                heappush(queue, (grid[i+1][j] + h, i+1, j, new_cnt, SOUTH, q + [(i+1, j)]))\n",
    "        if j < n-1 and d != WEST and ((d == EAST and cnt < 10) or (d != EAST and cnt > 3)):\n",
    "            new_cnt = cnt+1 if d == EAST else 1\n",
    "            if (i, j+1, new_cnt, EAST) not in seen:\n",
    "                seen.add((i, j+1, new_cnt, EAST))\n",
    "                heappush(queue, (grid[i][j+1] + h, i, j+1, new_cnt, EAST, q + [(i, j+1)]))\n",
    "        if i > 0 and d != SOUTH and ((d == NORTH and cnt < 10) or (d != NORTH and cnt > 3)):\n",
    "            new_cnt = cnt+1 if d == NORTH else 1\n",
    "            if (i-1, j, new_cnt, NORTH) not in seen:\n",
    "                seen.add((i-1, j, new_cnt, NORTH))\n",
    "                heappush(queue, (grid[i-1][j] + h, i-1, j, new_cnt, NORTH, q + [(i-1, j)]))\n",
    "        if j > 0 and d != EAST and ((d == WEST and cnt < 10) or (d != WEST and cnt > 3)):\n",
    "            new_cnt = cnt+1 if d == WEST else 1\n",
    "            if (i, j-1, new_cnt, WEST) not in seen:\n",
    "                seen.add((i, j-1, new_cnt, WEST))\n",
    "                heappush(queue, (grid[i][j-1] + h, i, j-1, new_cnt, WEST, q + [(i, j-1)]))\n",
    "    return None"
   ]
  },
  {
   "cell_type": "code",
   "execution_count": 104,
   "id": "0d290b92-88db-477c-9d0c-5c1d6c331a32",
   "metadata": {},
   "outputs": [
    {
     "data": {
      "text/plain": [
       "102"
      ]
     },
     "execution_count": 104,
     "metadata": {},
     "output_type": "execute_result"
    }
   ],
   "source": [
    "grid = load_file(\"17_test.txt\")\n",
    "trace(grid)  # 102"
   ]
  },
  {
   "cell_type": "code",
   "execution_count": 105,
   "id": "3ba9aed6-97a7-40b6-962c-d603e4bc4723",
   "metadata": {},
   "outputs": [
    {
     "data": {
      "text/plain": [
       "886"
      ]
     },
     "execution_count": 105,
     "metadata": {},
     "output_type": "execute_result"
    }
   ],
   "source": [
    "grid = load_file(\"17_input.txt\")\n",
    "trace(grid)  # 886"
   ]
  },
  {
   "cell_type": "code",
   "execution_count": 106,
   "id": "234133bd-404f-4b46-8b0b-ba0f95b379f5",
   "metadata": {},
   "outputs": [
    {
     "data": {
      "text/plain": [
       "(94,\n",
       " [(0, 1),\n",
       "  (0, 2),\n",
       "  (0, 3),\n",
       "  (0, 4),\n",
       "  (0, 5),\n",
       "  (0, 6),\n",
       "  (0, 7),\n",
       "  (0, 8),\n",
       "  (1, 8),\n",
       "  (2, 8),\n",
       "  (3, 8),\n",
       "  (4, 8),\n",
       "  (4, 9),\n",
       "  (4, 10),\n",
       "  (4, 11),\n",
       "  (4, 12),\n",
       "  (5, 12),\n",
       "  (6, 12),\n",
       "  (7, 12),\n",
       "  (8, 12),\n",
       "  (9, 12),\n",
       "  (10, 12),\n",
       "  (11, 12),\n",
       "  (12, 12)])"
      ]
     },
     "execution_count": 106,
     "metadata": {},
     "output_type": "execute_result"
    }
   ],
   "source": [
    "grid = load_file(\"17_test.txt\")\n",
    "trace2(grid) # 94"
   ]
  },
  {
   "cell_type": "code",
   "execution_count": 112,
   "id": "6cc28c74-5178-4891-8ff8-f2e8c27781ac",
   "metadata": {},
   "outputs": [
    {
     "data": {
      "text/plain": [
       "71"
      ]
     },
     "execution_count": 112,
     "metadata": {},
     "output_type": "execute_result"
    }
   ],
   "source": [
    "grid = load_file(\"17_test2.txt\")\n",
    "res, path = trace2(grid) \n",
    "res # 71"
   ]
  },
  {
   "cell_type": "code",
   "execution_count": 113,
   "id": "cedf61af-c53b-4602-aa4e-75d03999b5a1",
   "metadata": {},
   "outputs": [
    {
     "data": {
      "text/plain": [
       "[[1, 0, 0, 0, 0, 0, 0, 0, 1, 1, 1, 1],\n",
       " [9, 9, 9, 9, 9, 9, 9, 0, 9, 9, 9, 1],\n",
       " [9, 9, 9, 9, 9, 9, 9, 0, 9, 9, 9, 1],\n",
       " [9, 9, 9, 9, 9, 9, 9, 0, 9, 9, 9, 1],\n",
       " [9, 9, 9, 9, 9, 9, 9, 0, 0, 0, 0, 0]]"
      ]
     },
     "execution_count": 113,
     "metadata": {},
     "output_type": "execute_result"
    }
   ],
   "source": [
    "for i, j in path:\n",
    "    grid[i][j] = 0\n",
    "grid"
   ]
  },
  {
   "cell_type": "code",
   "execution_count": 114,
   "id": "3e895f3b-09d9-41b7-8d20-f02c48bc8a8f",
   "metadata": {},
   "outputs": [
    {
     "data": {
      "text/plain": [
       "1055"
      ]
     },
     "execution_count": 114,
     "metadata": {},
     "output_type": "execute_result"
    },
    {
     "name": "stderr",
     "output_type": "stream",
     "text": [
      "Exception in thread Thread-9:\n",
      "Traceback (most recent call last):\n",
      "  File \"/opt/homebrew/Caskroom/miniconda/base/envs/aoc/lib/python3.12/threading.py\", line 1052, in _bootstrap_inner\n",
      "    self.run()\n",
      "  File \"/opt/homebrew/Caskroom/miniconda/base/envs/aoc/lib/python3.12/site-packages/zmq/utils/garbage.py\", line 48, in run\n",
      "    if msg == b'DIE':\n",
      "       ^^^\n",
      "  File \"/opt/homebrew/Caskroom/miniconda/base/envs/aoc/lib/python3.12/site-packages/debugpy/_vendored/pydevd/_pydevd_bundle/pydevd_trace_dispatch_regular.py\", line 203, in trace_dispatch\n",
      "    py_db.enable_tracing(thread_trace_func)\n",
      "  File \"/opt/homebrew/Caskroom/miniconda/base/envs/aoc/lib/python3.12/site-packages/debugpy/_vendored/pydevd/pydevd.py\", line 1107, in enable_tracing\n",
      "    pydevd_tracing.SetTrace(thread_trace_func)\n",
      "  File \"/opt/homebrew/Caskroom/miniconda/base/envs/aoc/lib/python3.12/site-packages/debugpy/_vendored/pydevd/pydevd_tracing.py\", line 87, in SetTrace\n",
      "    if set_trace_to_threads(tracing_func, thread_idents=[thread.get_ident()], create_dummy_thread=False) == 0:\n",
      "       ^^^^^^^^^^^^^^^^^^^^^^^^^^^^^^^^^^^^^^^^^^^^^^^^^^^^^^^^^^^^^^^^^^^^^^^^^^^^^^^^^^^^^^^^^^^^^^^^^\n",
      "  File \"/opt/homebrew/Caskroom/miniconda/base/envs/aoc/lib/python3.12/site-packages/debugpy/_vendored/pydevd/pydevd_tracing.py\", line 354, in set_trace_to_threads\n",
      "    start_new_thread(increase_tracing_count, ())\n",
      "RuntimeError: can't create new thread at interpreter shutdown\n"
     ]
    }
   ],
   "source": [
    "grid = load_file(\"17_input.txt\")\n",
    "res, path = trace2(grid)  \n",
    "res # 1055"
   ]
  }
 ],
 "metadata": {
  "kernelspec": {
   "display_name": "Python 3 (ipykernel)",
   "language": "python",
   "name": "python3"
  },
  "language_info": {
   "codemirror_mode": {
    "name": "ipython",
    "version": 3
   },
   "file_extension": ".py",
   "mimetype": "text/x-python",
   "name": "python",
   "nbconvert_exporter": "python",
   "pygments_lexer": "ipython3",
   "version": "3.12.0"
  }
 },
 "nbformat": 4,
 "nbformat_minor": 5
}
