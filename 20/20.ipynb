{
 "cells": [
  {
   "cell_type": "code",
   "execution_count": 216,
   "id": "b17652cb-b8b5-4085-a796-84348d8bbf6b",
   "metadata": {},
   "outputs": [],
   "source": [
    "from pathlib import Path\n",
    "from collections import deque\n",
    "from math import prod\n",
    "\n",
    "def load_file(path):\n",
    "    res = {}\n",
    "    with Path(path).open() as f:\n",
    "        for line in f.readlines():\n",
    "            mod, dest = line.split(\" -> \")\n",
    "            if mod == \"broadcaster\":\n",
    "                mod_type = mod_name = \"broadcaster\"\n",
    "            else:\n",
    "                mod_type, mod_name = mod[0], mod[1:]\n",
    "            res[mod_name] = (mod_type, [], [d.strip() for d in dest.split(\",\")])\n",
    "\n",
    "    for mod_name, config in res.items():\n",
    "        for dest in config[2]:\n",
    "            if dest in res:\n",
    "                res[dest][1].append(mod_name)\n",
    "    return res\n",
    "\n",
    "LOW = 0\n",
    "HIGH = 1\n",
    "\n",
    "class Broadcaster:\n",
    "\n",
    "    def __init__(self, name, sources, dests):\n",
    "        self.name = name\n",
    "        self.dests = dests\n",
    "        self.sources = sources\n",
    "    \n",
    "    def input(self, signal, source):\n",
    "        res = []\n",
    "        for dest in self.dests:\n",
    "            res.append((signal, self.name, dest))\n",
    "        return res\n",
    "\n",
    "    def __repr__(self):\n",
    "        return f'[{\", \".join(self.sources)}] -> Broadcast -> [{\", \".join(self.dests)}]'\n",
    "\n",
    "class FlipFlop:\n",
    "    \n",
    "    def __init__(self, name, sources, dests):\n",
    "        self.name = name\n",
    "        self.dests = dests\n",
    "        self.is_on = False\n",
    "        self.sources = sources\n",
    "    \n",
    "    def input(self, signal, source):\n",
    "        res =  []\n",
    "        if signal == LOW:\n",
    "            self.is_on = not self.is_on\n",
    "            signal = HIGH if self.is_on else LOW\n",
    "            for dest in self.dests:\n",
    "                res.append((signal, self.name, dest))\n",
    "        return res\n",
    "\n",
    "    def __repr__(self):\n",
    "        return f'[{\", \".join(self.sources)}] -> FlipFlop -> [{\", \".join(self.dests)}]'\n",
    "                \n",
    "class Conjunction:\n",
    "    def __init__(self, name, sources, dests):\n",
    "        self.name = name\n",
    "        self.sources = {s: LOW for s in sources}\n",
    "        self.dests = dests\n",
    "\n",
    "    def input(self, signal, source):\n",
    "        res = []\n",
    "        self.sources[source] = signal\n",
    "        signal = LOW if all(self.sources.values()) else HIGH\n",
    "        for dest in self.dests:\n",
    "            res.append((signal, self.name, dest))\n",
    "        return res\n",
    "\n",
    "    def __repr__(self):\n",
    "        return f'[{\", \".join(self.sources)}] -> Conjunction -> [{\", \".join(self.dests)}]'\n",
    "                \n",
    "\n",
    "constructors = {\n",
    "    \"broadcaster\": Broadcaster,\n",
    "    \"%\": FlipFlop,\n",
    "    \"&\": Conjunction\n",
    "}\n",
    "\n",
    "def create_modules(schematics):\n",
    "    modules = {}\n",
    "    for mod_name, config in schematics.items():\n",
    "        modules[mod_name] = constructors[config[0]](mod_name, config[1], config[2])\n",
    "    return modules\n",
    "\n",
    "def push_button(modules):\n",
    "    pulses = [1, 0]\n",
    "    queue = deque(modules[\"broadcaster\"].input(LOW, \"broadcaster\"))\n",
    "    while queue:\n",
    "        sig, source, dest = queue.popleft()\n",
    "        pulses[sig] += 1\n",
    "        # print(sig, source, dest)\n",
    "        if dest in modules:\n",
    "            queue.extend(modules[dest].input(sig, source))\n",
    "    return pulses\n",
    "\n",
    "def solve1(path):\n",
    "    schematics = load_file(path)\n",
    "    modules = create_modules(schematics)\n",
    "    res = [0, 0]\n",
    "    for _ in range(1000):\n",
    "        tmp = push_button(modules)\n",
    "        res = [res[0] + tmp[0], res[1] + tmp[1]]\n",
    "    return prod(res)\n",
    "\n",
    "def solve2(path):\n",
    "    schematics = load_file(path)\n",
    "    modules = create_modules(schematics)\n",
    "    pushes = 0\n",
    "    inputs = {}\n",
    "    while True:\n",
    "        pushes += 1\n",
    "        queue = deque(modules[\"broadcaster\"].input(LOW, \"broadcaster\"))\n",
    "        while queue:\n",
    "            sig, source, dest = queue.popleft()\n",
    "            if sig == HIGH:\n",
    "                if source in [\"ks\", \"pm\", \"dl\", \"vk\"]:\n",
    "                    if source not in inputs:\n",
    "                        inputs[source] = pushes\n",
    "                    else:\n",
    "                        return inputs\n",
    "            if dest in modules:\n",
    "                queue.extend(modules[dest].input(sig, source))"
   ]
  },
  {
   "cell_type": "code",
   "execution_count": 217,
   "id": "fe061716-f315-4f3e-908e-b0bb279916be",
   "metadata": {},
   "outputs": [
    {
     "data": {
      "text/plain": [
       "{'broadcaster': ('broadcaster', [], ['a', 'b', 'c']),\n",
       " 'a': ('%', ['broadcaster', 'inv'], ['b']),\n",
       " 'b': ('%', ['broadcaster', 'a'], ['c']),\n",
       " 'c': ('%', ['broadcaster', 'b'], ['inv']),\n",
       " 'inv': ('&', ['c'], ['a'])}"
      ]
     },
     "execution_count": 217,
     "metadata": {},
     "output_type": "execute_result"
    }
   ],
   "source": [
    "schematics = load_file(\"20_test.txt\")\n",
    "schematics"
   ]
  },
  {
   "cell_type": "code",
   "execution_count": 218,
   "id": "a3d85b1c-ebde-4faf-b532-fe1b93aecaca",
   "metadata": {},
   "outputs": [
    {
     "data": {
      "text/plain": [
       "{'broadcaster': [] -> Broadcast -> [a, b, c],\n",
       " 'a': [broadcaster, inv] -> FlipFlop -> [b],\n",
       " 'b': [broadcaster, a] -> FlipFlop -> [c],\n",
       " 'c': [broadcaster, b] -> FlipFlop -> [inv],\n",
       " 'inv': [c] -> Conjunction -> [a]}"
      ]
     },
     "execution_count": 218,
     "metadata": {},
     "output_type": "execute_result"
    }
   ],
   "source": [
    "modules = create_modules(schematics)\n",
    "modules"
   ]
  },
  {
   "cell_type": "code",
   "execution_count": 219,
   "id": "02e7188a-234b-402f-8bd1-24f3f4c7f270",
   "metadata": {},
   "outputs": [
    {
     "data": {
      "text/plain": [
       "[8, 4]"
      ]
     },
     "execution_count": 219,
     "metadata": {},
     "output_type": "execute_result"
    }
   ],
   "source": [
    "push_button(modules)"
   ]
  },
  {
   "cell_type": "code",
   "execution_count": 220,
   "id": "80f324a6-cea7-45a2-91a1-48ec430e9693",
   "metadata": {},
   "outputs": [
    {
     "data": {
      "text/plain": [
       "True"
      ]
     },
     "execution_count": 220,
     "metadata": {},
     "output_type": "execute_result"
    }
   ],
   "source": [
    "solve1(\"20_test.txt\") == 32000000"
   ]
  },
  {
   "cell_type": "code",
   "execution_count": 221,
   "id": "bfe644f7-79cc-45fb-9e40-1d5bd100b33e",
   "metadata": {},
   "outputs": [
    {
     "data": {
      "text/plain": [
       "True"
      ]
     },
     "execution_count": 221,
     "metadata": {},
     "output_type": "execute_result"
    }
   ],
   "source": [
    "solve1(\"20_test2.txt\") == 11687500"
   ]
  },
  {
   "cell_type": "code",
   "execution_count": 222,
   "id": "548772e9-18f1-4c75-b70a-03058a3ba11c",
   "metadata": {},
   "outputs": [
    {
     "data": {
      "text/plain": [
       "711650489"
      ]
     },
     "execution_count": 222,
     "metadata": {},
     "output_type": "execute_result"
    }
   ],
   "source": [
    "solve1(\"20_input.txt\")  # 711650489"
   ]
  },
  {
   "cell_type": "code",
   "execution_count": 224,
   "id": "c6bd8d63-19d4-42f1-8bdf-367ca0d46d87",
   "metadata": {},
   "outputs": [
    {
     "data": {
      "text/plain": [
       "219388737656593"
      ]
     },
     "execution_count": 224,
     "metadata": {},
     "output_type": "execute_result"
    }
   ],
   "source": [
    "from math import lcm\n",
    "lcm(*solve2(\"20_input.txt\").values())  # 219388737656593"
   ]
  },
  {
   "cell_type": "code",
   "execution_count": null,
   "id": "6a8cead3-3497-40af-871c-056b66eb1af0",
   "metadata": {},
   "outputs": [],
   "source": []
  }
 ],
 "metadata": {
  "kernelspec": {
   "display_name": "Python 3 (ipykernel)",
   "language": "python",
   "name": "python3"
  },
  "language_info": {
   "codemirror_mode": {
    "name": "ipython",
    "version": 3
   },
   "file_extension": ".py",
   "mimetype": "text/x-python",
   "name": "python",
   "nbconvert_exporter": "python",
   "pygments_lexer": "ipython3",
   "version": "3.12.0"
  }
 },
 "nbformat": 4,
 "nbformat_minor": 5
}
