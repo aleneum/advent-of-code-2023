{
 "cells": [
  {
   "cell_type": "code",
   "execution_count": 69,
   "id": "b1da2feb-a5d7-4bac-81eb-a0dbc0c5f281",
   "metadata": {},
   "outputs": [],
   "source": [
    "from pathlib import Path\n",
    "from collections import deque\n",
    "\n",
    "NORTH = 0\n",
    "EAST = 1\n",
    "SOUTH = 2\n",
    "WEST = 3\n",
    "\n",
    "def load_file(path):\n",
    "    res = []\n",
    "    with Path(path).open() as f:\n",
    "        for line in f.readlines():\n",
    "            res.append(list(line.strip()))\n",
    "    return res\n",
    "\n",
    "def travel(grid, start = (0,0,EAST)):\n",
    "    m = len(grid)\n",
    "    n = len(grid[0])\n",
    "    seen = [[0] * n for _ in range(m)]\n",
    "    cache = {}\n",
    "\n",
    "    queue = deque([start])\n",
    "    \n",
    "    while queue:\n",
    "        i, j, dir = queue.popleft()\n",
    "        if i < 0 or i >= m or j < 0 or j >= n or (seen[i][j] >> dir) & 1:\n",
    "            continue\n",
    "        \n",
    "        seen[i][j] |= 1 << dir\n",
    "        char = grid[i][j]\n",
    "        if char == '.':\n",
    "            if dir == NORTH:\n",
    "                queue.append((i-1, j, NORTH))\n",
    "            elif dir == EAST:\n",
    "                queue.append((i, j+1, EAST))\n",
    "            elif dir == SOUTH:\n",
    "                queue.append((i+1, j, SOUTH))\n",
    "            else:\n",
    "                queue.append((i, j-1, WEST))\n",
    "        elif char == \"|\":\n",
    "            if dir == NORTH:\n",
    "                queue.append((i-1, j, NORTH))\n",
    "            elif dir == SOUTH:\n",
    "                queue.append((i+1, j, SOUTH))\n",
    "            else:\n",
    "                queue.append((i-1, j, NORTH))\n",
    "                queue.append((i+1, j, SOUTH))\n",
    "        elif char == \"-\":\n",
    "            if dir == EAST:\n",
    "                queue.append((i, j+1, EAST))\n",
    "            elif dir == WEST:\n",
    "                queue.append((i, j-1, WEST))\n",
    "            else:\n",
    "                queue.append((i, j-1, WEST))\n",
    "                queue.append((i, j+1, EAST))\n",
    "        elif char == \"\\\\\":\n",
    "            if dir == NORTH:\n",
    "                queue.append((i, j-1, WEST))\n",
    "            elif dir == EAST:\n",
    "                queue.append((i+1, j, SOUTH))\n",
    "            elif dir == SOUTH:\n",
    "                queue.append((i, j+1, EAST))\n",
    "            else:\n",
    "                queue.append((i-1, j, NORTH))\n",
    "        else:  # /\n",
    "            if dir == NORTH:\n",
    "                queue.append((i, j+1, EAST))\n",
    "            elif dir == EAST:\n",
    "                queue.append((i-1, j, NORTH))\n",
    "            elif dir == SOUTH:\n",
    "                queue.append((i, j-1, WEST))\n",
    "            else:\n",
    "                queue.append((i+1, j, SOUTH))\n",
    "    return sum(sum(1 if el else 0 for el in line) for line in seen)\n",
    "        "
   ]
  },
  {
   "cell_type": "code",
   "execution_count": 72,
   "id": "bf09728a-c73f-455f-87fe-067f5161d56b",
   "metadata": {},
   "outputs": [
    {
     "data": {
      "text/plain": [
       "True"
      ]
     },
     "execution_count": 72,
     "metadata": {},
     "output_type": "execute_result"
    }
   ],
   "source": [
    "grid = load_file(\"16_test.txt\")\n",
    "travel(grid) == 46"
   ]
  },
  {
   "cell_type": "code",
   "execution_count": 73,
   "id": "2ec779ed-4837-402b-b030-0b86e174a48c",
   "metadata": {},
   "outputs": [
    {
     "data": {
      "text/plain": [
       "8021"
      ]
     },
     "execution_count": 73,
     "metadata": {},
     "output_type": "execute_result"
    }
   ],
   "source": [
    "grid = load_file(\"16_input.txt\")\n",
    "travel(grid)  # 8021"
   ]
  },
  {
   "cell_type": "code",
   "execution_count": 76,
   "id": "e02b7e4c-ee13-4d26-9cb9-259bebfe8b64",
   "metadata": {},
   "outputs": [],
   "source": [
    "def brute_force(path):\n",
    "    grid = load_file(path)\n",
    "    m = len(grid)\n",
    "    n = len(grid)\n",
    "    res1 = max(travel(grid, (i, 0, EAST)) for i in range(m))\n",
    "    res2 = max(travel(grid, (i, n-1, WEST)) for i in range(m))\n",
    "    res3 = max(travel(grid, (0, j, SOUTH)) for j in range(n))\n",
    "    res4 = max(travel(grid, (m-1, j, NORTH)) for j in range(n))\n",
    "    return max(res1, res2, res3, res4)\n",
    "        "
   ]
  },
  {
   "cell_type": "code",
   "execution_count": 78,
   "id": "69019250-1ba8-4ca2-bfc9-2db7cb0d902d",
   "metadata": {},
   "outputs": [
    {
     "data": {
      "text/plain": [
       "True"
      ]
     },
     "execution_count": 78,
     "metadata": {},
     "output_type": "execute_result"
    }
   ],
   "source": [
    "brute_force(\"16_test.txt\") == 51"
   ]
  },
  {
   "cell_type": "code",
   "execution_count": 79,
   "id": "e54d11e3-81f8-49f2-b0c2-f3ccff18ae63",
   "metadata": {},
   "outputs": [
    {
     "data": {
      "text/plain": [
       "8216"
      ]
     },
     "execution_count": 79,
     "metadata": {},
     "output_type": "execute_result"
    }
   ],
   "source": [
    "brute_force(\"16_input.txt\") "
   ]
  },
  {
   "cell_type": "code",
   "execution_count": null,
   "id": "2fb17926-0823-4d81-9ebe-bad94ea4f4a4",
   "metadata": {},
   "outputs": [],
   "source": []
  }
 ],
 "metadata": {
  "kernelspec": {
   "display_name": "Python 3 (ipykernel)",
   "language": "python",
   "name": "python3"
  },
  "language_info": {
   "codemirror_mode": {
    "name": "ipython",
    "version": 3
   },
   "file_extension": ".py",
   "mimetype": "text/x-python",
   "name": "python",
   "nbconvert_exporter": "python",
   "pygments_lexer": "ipython3",
   "version": "3.12.0"
  }
 },
 "nbformat": 4,
 "nbformat_minor": 5
}
