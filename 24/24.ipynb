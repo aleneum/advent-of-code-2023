{
 "cells": [
  {
   "cell_type": "code",
   "execution_count": 187,
   "id": "8db02c2b-32ff-49c6-af8c-caf36035953c",
   "metadata": {},
   "outputs": [],
   "source": [
    "from pathlib import Path\n",
    "import numpy as np\n",
    "\n",
    "def load_path(path):\n",
    "    res = []\n",
    "    with Path(path).open() as f:\n",
    "        for line in f.readlines():\n",
    "            pos, vel = line.strip().split(\"@\")\n",
    "            pos = np.array([int(v) for v in pos.strip().split(\", \")])\n",
    "            vel = np.array([int(v) for v in vel.strip().split(\", \")])\n",
    "            res.append((pos, vel))\n",
    "    return res"
   ]
  },
  {
   "cell_type": "code",
   "execution_count": 188,
   "id": "a1f055c8-df85-48d3-9d03-72632df7c00f",
   "metadata": {},
   "outputs": [
    {
     "data": {
      "text/plain": [
       "[(array([19, 13, 30]), array([-2,  1, -2])),\n",
       " (array([18, 19, 22]), array([-1, -1, -2])),\n",
       " (array([20, 25, 34]), array([-2, -2, -4])),\n",
       " (array([12, 31, 28]), array([-1, -2, -1])),\n",
       " (array([20, 19, 15]), array([ 1, -5, -3]))]"
      ]
     },
     "execution_count": 188,
     "metadata": {},
     "output_type": "execute_result"
    }
   ],
   "source": [
    "hail = load_path(\"24_test.txt\")\n",
    "hail"
   ]
  },
  {
   "cell_type": "code",
   "execution_count": 189,
   "id": "b69c6c28-cb69-4343-a129-6de79fba2004",
   "metadata": {},
   "outputs": [],
   "source": [
    "import matplotlib.pyplot as pl\n",
    "\n",
    "def check(h1, h2, l, r):\n",
    "    (p1_x, p1_y), (v1_x, v1_y) = h1[0][:2], h1[1][:2]\n",
    "    (p2_x, p2_y), (v2_x, v2_y) = h2[0][:2], h2[1][:2]\n",
    "    \n",
    "    d = ((v2_x * v1_y) -  (v2_y * v1_x))\n",
    "    if d == 0:\n",
    "        return False\n",
    "    b = (v1_y * p1_x - v1_y * p2_x - v1_x * p1_y + v1_x * p2_y) / d\n",
    "    \n",
    "    if b < 0:\n",
    "        return False\n",
    "    x = p2_x + b * v2_x\n",
    "    a = (x - p1_x) / v1_x\n",
    "    if a < 0:\n",
    "        return False\n",
    "    \n",
    "    y = p2_y + b * v2_y\n",
    "    return l <= x <= r and l <= y <= r\n",
    "\n",
    "def intersect(hails, l, r):\n",
    "    n = len(hails)\n",
    "    res = 0\n",
    "    for i in range(n):\n",
    "        for j in range(i+1, n):\n",
    "            if check(hails[i], hails[j], l, r):\n",
    "                res += 1\n",
    "    return res"
   ]
  },
  {
   "cell_type": "code",
   "execution_count": 190,
   "id": "e9556e0f-15fa-4baf-8fdd-029a0948450c",
   "metadata": {},
   "outputs": [
    {
     "data": {
      "text/plain": [
       "2"
      ]
     },
     "execution_count": 190,
     "metadata": {},
     "output_type": "execute_result"
    }
   ],
   "source": [
    "hail = load_path(\"24_test.txt\")\n",
    "intersect(hail, 7, 27)"
   ]
  },
  {
   "cell_type": "code",
   "execution_count": 191,
   "id": "d19a8e88-bc92-477c-8a01-8760f780f6ae",
   "metadata": {},
   "outputs": [
    {
     "data": {
      "text/plain": [
       "12938"
      ]
     },
     "execution_count": 191,
     "metadata": {},
     "output_type": "execute_result"
    }
   ],
   "source": [
    "hail = load_path(\"24_input.txt\")\n",
    "intersect(hail, 200000000000000, 400000000000000)  # 12938"
   ]
  },
  {
   "cell_type": "code",
   "execution_count": 192,
   "id": "b68e408e-d6c0-4be4-9a7a-9ee7ee9a6801",
   "metadata": {},
   "outputs": [],
   "source": [
    "from sympy.solvers import solve\n",
    "from sympy import Symbol\n",
    "\n",
    "def resolve(hails):\n",
    "    a = Symbol('a')\n",
    "    b = Symbol('b')\n",
    "    c = Symbol('c')\n",
    "    d = Symbol('d')\n",
    "    X = Symbol('X')\n",
    "    Y = Symbol('Y')\n",
    "    Z = Symbol('Z')\n",
    "    A = Symbol('A')\n",
    "    B = Symbol('B')\n",
    "    C = Symbol('C')\n",
    "    (p1_x, p1_y, p1_z), (v1_x, v1_y, v1_z) = hail[0]\n",
    "    (p2_x, p2_y, p2_z), (v2_x, v2_y, v2_z) = hail[1]\n",
    "    (p3_x, p3_y, p3_z), (v3_x, v3_y, v3_z) = hail[2]\n",
    "    (p4_x, p4_y, p4_z), (v4_x, v4_y, v4_z) = hail[3]\n",
    "    res = solve([a*v1_x + p1_x - a*X - A,\n",
    "       a*v1_y + p1_y - a*Y - B,\n",
    "       a*v1_z + p1_z - a*Z - C,\n",
    "       b*v2_x + p2_x - b*X - A,\n",
    "       b*v2_y + p2_y - b*Y - B,\n",
    "       b*v2_z + p2_z - b*Z - C,\n",
    "       c*v3_x + p3_x - c*X - A,\n",
    "       c*v3_y + p3_y - c*Y - B,\n",
    "       c*v3_z + p3_z - c*Z - C,\n",
    "       d*v4_x + p4_x - d*X - A,\n",
    "       d*v4_y + p4_y - d*Y - B,\n",
    "       d*v4_z + p4_z - d*Z - C,])[0]\n",
    "    return sum([res[A], res[B], res[C]])"
   ]
  },
  {
   "cell_type": "code",
   "execution_count": 193,
   "id": "df2c3558-1fad-4ee4-b777-22918736c262",
   "metadata": {},
   "outputs": [
    {
     "data": {
      "text/plain": [
       "True"
      ]
     },
     "execution_count": 193,
     "metadata": {},
     "output_type": "execute_result"
    }
   ],
   "source": [
    "hail = load_path(\"24_test.txt\")\n",
    "resolve(hail) == 47"
   ]
  },
  {
   "cell_type": "code",
   "execution_count": 194,
   "id": "50b4722f-68b4-48fd-b13a-34525a2349f6",
   "metadata": {},
   "outputs": [
    {
     "name": "stdout",
     "output_type": "stream",
     "text": [
      "976976197397181\n"
     ]
    }
   ],
   "source": [
    "hail = load_path(\"24_input.txt\")\n",
    "print(resolve(hail))  # 976976197397181"
   ]
  },
  {
   "cell_type": "code",
   "execution_count": null,
   "id": "822d8758-298a-48e4-90ff-1594a79a73ce",
   "metadata": {},
   "outputs": [],
   "source": []
  }
 ],
 "metadata": {
  "kernelspec": {
   "display_name": "Python 3 (ipykernel)",
   "language": "python",
   "name": "python3"
  },
  "language_info": {
   "codemirror_mode": {
    "name": "ipython",
    "version": 3
   },
   "file_extension": ".py",
   "mimetype": "text/x-python",
   "name": "python",
   "nbconvert_exporter": "python",
   "pygments_lexer": "ipython3",
   "version": "3.12.0"
  }
 },
 "nbformat": 4,
 "nbformat_minor": 5
}
