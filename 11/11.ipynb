{
 "cells": [
  {
   "cell_type": "code",
   "execution_count": 216,
   "id": "6cf1cb85-0b16-4f82-b421-e40329591608",
   "metadata": {},
   "outputs": [],
   "source": [
    "from pathlib import Path\n",
    "\n",
    "def load_file(path):\n",
    "    res = []\n",
    "    with Path(path).open() as f:\n",
    "        for line in f.readlines():\n",
    "            res.append(list(line.strip()))\n",
    "    return res\n",
    "\n",
    "def expand(arr, f=2):\n",
    "    rows = set()\n",
    "    cols = set()\n",
    "    for i, row in enumerate(arr):\n",
    "        if \"#\" not in row:\n",
    "            rows.add(i)\n",
    "        else:\n",
    "            for j, el in enumerate(row):\n",
    "                if el == \"#\":\n",
    "                    cols.add(j)\n",
    "    cols = set(range(len(arr[0]))) - cols\n",
    "    n = len(arr[0])\n",
    "    new_arr = []\n",
    "    for i, row in enumerate(arr):\n",
    "        if i in rows:\n",
    "            new_arr.append([f] * n)\n",
    "        else:\n",
    "            new_row = []\n",
    "            for j, el in enumerate(row):\n",
    "                if el == \"#\":\n",
    "                    new_row.append(0)\n",
    "                elif j in cols:\n",
    "                    new_row.append(f)\n",
    "                else:\n",
    "                    new_row.append(1)\n",
    "            new_arr.append(new_row)\n",
    "    return new_arr\n",
    "\n",
    "def find_galaxis(arr):\n",
    "    res = []\n",
    "    for i, row in enumerate(arr):\n",
    "        for j, el in enumerate(row):\n",
    "            if el == 0:\n",
    "                res.append((i, j))\n",
    "    return res\n",
    "\n",
    "def sum_dist(gals, arr):\n",
    "    res = 0\n",
    "    for i, j in gals:\n",
    "        arr[i][j] = 1\n",
    "    for i in range(len(gals)):\n",
    "        for j in range(i+1, len(gals)):\n",
    "            tmp = 0\n",
    "            bi, bj = gals[i]\n",
    "            ei, ej = gals[j]\n",
    "            di = 1 if bi <= ei else -1\n",
    "            for y in range(bi+di, ei+di, di):\n",
    "                tmp += arr[y][bj]\n",
    "            if bi == ei:\n",
    "                y = bi\n",
    "            dj = 1 if bj <= ej else -1\n",
    "            for x in range(bj+dj, ej+dj, dj):\n",
    "                tmp += arr[y][x]\n",
    "            res += tmp\n",
    "    return res"
   ]
  },
  {
   "cell_type": "code",
   "execution_count": 217,
   "id": "b346a699-c60b-41cf-a520-e2c1d991cd5e",
   "metadata": {},
   "outputs": [
    {
     "data": {
      "text/plain": [
       "[[1, 1, 2, 0, 1, 2, 1, 1, 2, 1],\n",
       " [1, 1, 2, 1, 1, 2, 1, 0, 2, 1],\n",
       " [0, 1, 2, 1, 1, 2, 1, 1, 2, 1],\n",
       " [2, 2, 2, 2, 2, 2, 2, 2, 2, 2],\n",
       " [1, 1, 2, 1, 1, 2, 0, 1, 2, 1],\n",
       " [1, 0, 2, 1, 1, 2, 1, 1, 2, 1],\n",
       " [1, 1, 2, 1, 1, 2, 1, 1, 2, 0],\n",
       " [2, 2, 2, 2, 2, 2, 2, 2, 2, 2],\n",
       " [1, 1, 2, 1, 1, 2, 1, 0, 2, 1],\n",
       " [0, 1, 2, 1, 0, 2, 1, 1, 2, 1]]"
      ]
     },
     "execution_count": 217,
     "metadata": {},
     "output_type": "execute_result"
    }
   ],
   "source": [
    "arr = load_file(\"./11_test.txt\")\n",
    "expanded = expand(arr)\n",
    "expanded"
   ]
  },
  {
   "cell_type": "code",
   "execution_count": 218,
   "id": "1c347437-9f48-492d-b246-f744ec058e8d",
   "metadata": {},
   "outputs": [],
   "source": [
    "gals = find_galaxis(expanded)\n",
    "assert sum_dist(gals, expanded) == 374"
   ]
  },
  {
   "cell_type": "code",
   "execution_count": 219,
   "id": "8fb31d3a-b3ff-428b-a2fe-6b9d200113b5",
   "metadata": {},
   "outputs": [],
   "source": [
    "arr = load_file(\"./11_test.txt\")\n",
    "expanded = expand(arr)\n",
    "gals = find_galaxis(expanded)\n",
    "assert sum_dist(gals, expanded) == 374"
   ]
  },
  {
   "cell_type": "code",
   "execution_count": 220,
   "id": "397350c9-b929-408a-8a03-0ce53d74372d",
   "metadata": {},
   "outputs": [
    {
     "data": {
      "text/plain": [
       "9805264"
      ]
     },
     "execution_count": 220,
     "metadata": {},
     "output_type": "execute_result"
    }
   ],
   "source": [
    "arr = load_file(\"./11_input.txt\")\n",
    "expanded = expand(arr)\n",
    "gals = find_galaxis(expanded)\n",
    "sum_dist(gals, expanded)  # 9805264"
   ]
  },
  {
   "cell_type": "code",
   "execution_count": 221,
   "id": "ae395077-a262-4a81-a6c9-933e9f0a9d06",
   "metadata": {},
   "outputs": [],
   "source": [
    "arr = load_file(\"./11_test.txt\")\n",
    "expanded = expand(arr, 100)\n",
    "gals = find_galaxis(expanded)\n",
    "assert sum_dist(gals, expanded) == 8410"
   ]
  },
  {
   "cell_type": "code",
   "execution_count": 222,
   "id": "11526ad3-1a67-4864-9819-48bf7d0a825a",
   "metadata": {},
   "outputs": [
    {
     "data": {
      "text/plain": [
       "779032247216"
      ]
     },
     "execution_count": 222,
     "metadata": {},
     "output_type": "execute_result"
    }
   ],
   "source": [
    "arr = load_file(\"./11_input.txt\")\n",
    "expanded = expand(arr, 1000000)\n",
    "gals = find_galaxis(expanded)\n",
    "sum_dist(gals, expanded)  # 779032247216"
   ]
  },
  {
   "cell_type": "code",
   "execution_count": null,
   "id": "6ef756c1-6fce-4ec1-8b8c-aa7f94e47852",
   "metadata": {},
   "outputs": [],
   "source": []
  }
 ],
 "metadata": {
  "kernelspec": {
   "display_name": "Python 3 (ipykernel)",
   "language": "python",
   "name": "python3"
  },
  "language_info": {
   "codemirror_mode": {
    "name": "ipython",
    "version": 3
   },
   "file_extension": ".py",
   "mimetype": "text/x-python",
   "name": "python",
   "nbconvert_exporter": "python",
   "pygments_lexer": "ipython3",
   "version": "3.12.0"
  }
 },
 "nbformat": 4,
 "nbformat_minor": 5
}
