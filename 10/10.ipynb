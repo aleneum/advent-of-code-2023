{
 "cells": [
  {
   "cell_type": "code",
   "execution_count": 51,
   "id": "e677670d-b772-4d26-a33e-862e63276e40",
   "metadata": {},
   "outputs": [],
   "source": [
    "from pathlib import Path\n",
    "from collections import deque\n",
    "\n",
    "NORTH = 0\n",
    "EAST = 1\n",
    "SOUTH = 2\n",
    "WEST = 3\n",
    "\n",
    "next_pipes = [\n",
    "    {\"|\": NORTH, \"L\": WEST, \"J\": EAST},  # NORTH\n",
    "    {\"-\": EAST, \"F\": NORTH, \"L\": SOUTH}, # EAST\n",
    "    {\"|\": SOUTH, \"7\": EAST, \"F\": WEST},  # SOUTH\n",
    "    {\"-\": WEST, \"7\": NORTH, \"J\": SOUTH}, # WEST\n",
    "]\n",
    "\n",
    "def load_file(path: str):\n",
    "    res = []\n",
    "    start = None\n",
    "    with Path(path).open() as f:\n",
    "        for i, line in enumerate(f.readlines()):\n",
    "            l = list(line.strip())\n",
    "            res.append(l)\n",
    "            if start is None and \"S\" in l:\n",
    "                start = (i, l.index(\"S\"))\n",
    "            \n",
    "    return res, start\n",
    "\n",
    "# Polygon area ala Shoelace\n",
    "def area(p):\n",
    "    return 0.5 * abs(sum(x0*y1 - x1*y0\n",
    "                         for ((x0, y0), (x1, y1)) in segments(p)))\n",
    "\n",
    "def segments(p):\n",
    "    return zip(p, p[1:] + [p[0]])"
   ]
  },
  {
   "cell_type": "code",
   "execution_count": 52,
   "id": "a5e68b68-b5f7-4a3f-b657-bce63478008b",
   "metadata": {},
   "outputs": [],
   "source": [
    "def calc_steps(arr, start):\n",
    "    m = len(arr)\n",
    "    n = len(arr[0])\n",
    "    i, j = start\n",
    "    queue = deque()\n",
    "    seen = list([(i, j)])\n",
    "    if i > 0 and arr[i-1][j] in next_pipes[SOUTH]:\n",
    "        seen.append((i-1, j))\n",
    "        queue.append((next_pipes[SOUTH][arr[i-1][j]], (i-1, j)))\n",
    "    elif i < m-1 and arr[i+1][j] in next_pipes[NORTH]:\n",
    "        seen.append((i+1, j))\n",
    "        queue.append((next_pipes[NORTH][arr[i+1][j]], (i+1, j)))\n",
    "    elif j > 0 and arr[i][j-1] in next_pipes[EAST]:\n",
    "        seen.append((i, j-1))\n",
    "        queue.append((next_pipes[EAST][arr[i][j-1]], (i, j-1)))\n",
    "    elif j < m-1 and arr[i][j+1] in next_pipes[WEST]:\n",
    "        seen.append((i, j+1))\n",
    "        queue.append((next_pipes[WEST][arr[i][j+1]], (i, j+1)))\n",
    "    while queue:\n",
    "        d, (i, j) = queue.popleft()\n",
    "        if d == NORTH and i < m-1 and (i+1, j) not in seen and arr[i+1][j] in next_pipes[NORTH]:\n",
    "            seen.append((i+1, j))\n",
    "            queue.append((next_pipes[NORTH][arr[i+1][j]], (i+1, j)))\n",
    "        elif d == EAST and j > 0 and (i, j-1) not in seen and arr[i][j-1] in next_pipes[EAST]:\n",
    "            seen.append((i, j-1))\n",
    "            queue.append((next_pipes[EAST][arr[i][j-1]], (i, j-1)))\n",
    "        elif d == SOUTH and i > 0 and (i-1, j) not in seen and arr[i-1][j] in next_pipes[SOUTH]:\n",
    "            seen.append((i-1, j))\n",
    "            queue.append((next_pipes[SOUTH][arr[i-1][j]], (i-1, j)))\n",
    "        elif d == WEST and j < n-1 and (i, j+1) not in seen and arr[i][j+1] in next_pipes[WEST]:\n",
    "            seen.append((i, j+1))\n",
    "            queue.append((next_pipes[WEST][arr[i][j+1]], (i, j+1)))\n",
    "    return seen\n",
    "    "
   ]
  },
  {
   "cell_type": "code",
   "execution_count": 53,
   "id": "1e479b67-307b-48d1-99c5-4d80c8aff6f2",
   "metadata": {},
   "outputs": [],
   "source": [
    "arr, start = load_file(\"./10_test.txt\")\n",
    "steps = calc_steps(arr, start)\n",
    "assert len(steps) // 2 == 4\n",
    "# i = A - b/2 - h + 1\n",
    "assert area(steps) + 1 - len(steps) // 2 == 1"
   ]
  },
  {
   "cell_type": "code",
   "execution_count": 54,
   "id": "e22bfa79-8f90-4680-ba72-30df08ebab80",
   "metadata": {},
   "outputs": [],
   "source": [
    "arr, start = load_file(\"./10_test2.txt\")\n",
    "assert len(calc_steps(arr, start)) // 2 == 8"
   ]
  },
  {
   "cell_type": "code",
   "execution_count": 55,
   "id": "62d9f2bf-da4a-4afc-a0ec-95c8b4a19fb5",
   "metadata": {},
   "outputs": [],
   "source": [
    "arr, start = load_file(\"./10_test3.txt\")\n",
    "steps = calc_steps(arr, start)\n",
    "assert area(steps) + 1 - len(steps) // 2 == 4"
   ]
  },
  {
   "cell_type": "code",
   "execution_count": 56,
   "id": "c9466785-0692-4e17-8ea4-343ca758ba49",
   "metadata": {},
   "outputs": [
    {
     "data": {
      "text/plain": [
       "6613"
      ]
     },
     "execution_count": 56,
     "metadata": {},
     "output_type": "execute_result"
    }
   ],
   "source": [
    "arr, start = load_file(\"./10_input.txt\")\n",
    "steps = calc_steps(arr, start)\n",
    "len(steps) // 2 # 6613"
   ]
  },
  {
   "cell_type": "code",
   "execution_count": 57,
   "id": "8af2084d-f4f8-4edf-bd73-897f2ec64f26",
   "metadata": {},
   "outputs": [
    {
     "data": {
      "text/plain": [
       "511.0"
      ]
     },
     "execution_count": 57,
     "metadata": {},
     "output_type": "execute_result"
    }
   ],
   "source": [
    "area(steps) + 1 - len(steps) // 2  # 511"
   ]
  },
  {
   "cell_type": "code",
   "execution_count": null,
   "id": "0a6696c4-ebda-42d3-a74c-be91ef6ce69a",
   "metadata": {},
   "outputs": [],
   "source": []
  }
 ],
 "metadata": {
  "kernelspec": {
   "display_name": "Python 3 (ipykernel)",
   "language": "python",
   "name": "python3"
  },
  "language_info": {
   "codemirror_mode": {
    "name": "ipython",
    "version": 3
   },
   "file_extension": ".py",
   "mimetype": "text/x-python",
   "name": "python",
   "nbconvert_exporter": "python",
   "pygments_lexer": "ipython3",
   "version": "3.12.0"
  }
 },
 "nbformat": 4,
 "nbformat_minor": 5
}
